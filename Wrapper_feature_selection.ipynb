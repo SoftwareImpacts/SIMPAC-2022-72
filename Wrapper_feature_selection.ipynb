{
  "nbformat": 4,
  "nbformat_minor": 0,
  "metadata": {
    "colab": {
      "name": "Wrapper feature selection.ipynb",
      "provenance": [],
      "collapsed_sections": []
    },
    "kernelspec": {
      "name": "python3",
      "display_name": "Python 3"
    },
    "language_info": {
      "name": "python"
    }
  },
  "cells": [
    {
      "cell_type": "code",
      "execution_count": null,
      "metadata": {
        "id": "SRw7Ax7zMVN7",
        "colab": {
          "base_uri": "https://localhost:8080/"
        },
        "outputId": "281abb5f-6936-4237-9a71-1b10c5588c8c"
      },
      "outputs": [
        {
          "output_type": "stream",
          "name": "stdout",
          "text": [
            "Collecting pyswarms==0.1.9\n",
            "  Downloading pyswarms-0.1.9-py2.py3-none-any.whl (54 kB)\n",
            "\u001b[K     |████████████████████████████████| 54 kB 1.7 MB/s \n",
            "\u001b[?25hCollecting mock==2.0.0\n",
            "  Downloading mock-2.0.0-py2.py3-none-any.whl (56 kB)\n",
            "\u001b[K     |████████████████████████████████| 56 kB 3.6 MB/s \n",
            "\u001b[?25hRequirement already satisfied: scipy>=0.17.0 in /usr/local/lib/python3.7/dist-packages (from pyswarms==0.1.9) (1.4.1)\n",
            "Requirement already satisfied: future==0.16.0 in /usr/local/lib/python3.7/dist-packages (from pyswarms==0.1.9) (0.16.0)\n",
            "Requirement already satisfied: numpy>=1.13.0 in /usr/local/lib/python3.7/dist-packages (from pyswarms==0.1.9) (1.19.5)\n",
            "Collecting PyYAML==3.12\n",
            "  Downloading PyYAML-3.12.zip (375 kB)\n",
            "\u001b[K     |████████████████████████████████| 375 kB 33.4 MB/s \n",
            "\u001b[?25hRequirement already satisfied: matplotlib>=1.3.1 in /usr/local/lib/python3.7/dist-packages (from pyswarms==0.1.9) (3.2.2)\n",
            "Requirement already satisfied: six>=1.9 in /usr/local/lib/python3.7/dist-packages (from mock==2.0.0->pyswarms==0.1.9) (1.15.0)\n",
            "Collecting pbr>=0.11\n",
            "  Downloading pbr-5.8.0-py2.py3-none-any.whl (112 kB)\n",
            "\u001b[K     |████████████████████████████████| 112 kB 60.8 MB/s \n",
            "\u001b[?25hRequirement already satisfied: pyparsing!=2.0.4,!=2.1.2,!=2.1.6,>=2.0.1 in /usr/local/lib/python3.7/dist-packages (from matplotlib>=1.3.1->pyswarms==0.1.9) (3.0.7)\n",
            "Requirement already satisfied: python-dateutil>=2.1 in /usr/local/lib/python3.7/dist-packages (from matplotlib>=1.3.1->pyswarms==0.1.9) (2.8.2)\n",
            "Requirement already satisfied: kiwisolver>=1.0.1 in /usr/local/lib/python3.7/dist-packages (from matplotlib>=1.3.1->pyswarms==0.1.9) (1.3.2)\n",
            "Requirement already satisfied: cycler>=0.10 in /usr/local/lib/python3.7/dist-packages (from matplotlib>=1.3.1->pyswarms==0.1.9) (0.11.0)\n",
            "Building wheels for collected packages: PyYAML\n",
            "  Building wheel for PyYAML (setup.py) ... \u001b[?25l\u001b[?25hdone\n",
            "  Created wheel for PyYAML: filename=PyYAML-3.12-cp37-cp37m-linux_x86_64.whl size=43073 sha256=f25525c8bfb5101aee94ddaf9f00d962a0001d9078d0ad7e3c382d306727663f\n",
            "  Stored in directory: /root/.cache/pip/wheels/21/cc/0a/8f691c938b079b07fa17a2e2940e3faae0a3dfb3ff5b3ac356\n",
            "Successfully built PyYAML\n",
            "Installing collected packages: pbr, PyYAML, mock, pyswarms\n",
            "  Attempting uninstall: PyYAML\n",
            "    Found existing installation: PyYAML 3.13\n",
            "    Uninstalling PyYAML-3.13:\n",
            "      Successfully uninstalled PyYAML-3.13\n",
            "Successfully installed PyYAML-3.12 mock-2.0.0 pbr-5.8.0 pyswarms-0.1.9\n"
          ]
        }
      ],
      "source": [
        "!pip install pyswarms==0.1.9"
      ]
    },
    {
      "cell_type": "code",
      "execution_count": null,
      "metadata": {
        "id": "PEyQRC3YMEVO"
      },
      "outputs": [],
      "source": [
        "import torch\n",
        "import numpy\n",
        "import pandas as pd\n",
        "import numpy as np\n",
        "import matplotlib.pyplot as plt\n"
      ]
    },
    {
      "cell_type": "code",
      "execution_count": null,
      "metadata": {
        "id": "AkYaxLgcKkDa"
      },
      "outputs": [],
      "source": [
        "df =  pd.read_csv('/content/combine_corona_infulenza1.csv',na_values=\"-N/A-\")\n",
        "df = df.replace({\"-N/A-\":np.nan}, inplace=False)\n",
        "df = df.replace({\"Unknown\":np.nan}, inplace=False)\n",
        "c=df.columns\n",
        "#for i,j in zip(list((df.head(0))),np.arange(0,77,1)):\n",
        "#  print(f'{c[j]}   null values is:  ',df[f'{i}'].isnull().sum())\n"
      ]
    },
    {
      "cell_type": "code",
      "execution_count": null,
      "metadata": {
        "id": "MIBqr60r6u2i"
      },
      "outputs": [],
      "source": [
        "df = df.fillna(df.mode().iloc[0])"
      ]
    },
    {
      "cell_type": "code",
      "execution_count": null,
      "metadata": {
        "id": "8rDlGQ4i6v2o"
      },
      "outputs": [],
      "source": [
        "#for i,j in zip(list((df.head(0))),np.arange(0,77,1)):\n",
        "#  print(f'{c[j]}   null values is:  ',df[f'{i}'].isnull().sum())\n"
      ]
    },
    {
      "cell_type": "code",
      "execution_count": null,
      "metadata": {
        "id": "7cdnh_sZEGkC"
      },
      "outputs": [],
      "source": [
        "fatigue =[]\n",
        "d = df['Fatigue '].value_counts()\n",
        "for x in  d.index:\n",
        "  fatigue.append(x)"
      ]
    },
    {
      "cell_type": "code",
      "execution_count": null,
      "metadata": {
        "id": "SUEqr1DNDrFk"
      },
      "outputs": [],
      "source": [
        "for x in fatigue:\n",
        "  if x=='Yes' :\n",
        "    i=np.where(df['Fatigue ']== 'Yes')\n",
        "    i1=[[x for x in j]for j in i ]\n",
        "    df.iloc[i1,11]=np.array([1])\n",
        "  if x=='fatigue(Yes)\"' :\n",
        "    i=np.where(df['Fatigue ']== 'fatigue(Yes)\"')\n",
        "    i1=[[x for x in j]for j in i ]\n",
        "    df.iloc[i1,11]=np.array([1])    \n",
        "  if x=='fatigue(Yes)' :\n",
        "    i=np.where(df['Fatigue ']== 'fatigue(Yes)')\n",
        "    i1=[[x for x in j]for j in i ]\n",
        "    df.iloc[i1,11]=np.array([1]) \n",
        "  if x=='No' :\n",
        "    i=np.where(df['Fatigue ']== 'No')\n",
        "    i1=[[x for x in j]for j in i ]\n",
        "    df.iloc[i1,11]=np.array([0])\n",
        "  if x=='fatigue(No)' :\n",
        "    i=np.where(df['Fatigue ']== 'fatigue(No)')\n",
        "    i1=[[x for x in j]for j in i ]\n",
        "    df.iloc[i1,11]=np.array([0])\n",
        "  if x=='fatigue(Moderate)' :\n",
        "    i=np.where(df['Fatigue ']== 'fatigue(Moderate)')\n",
        "    i1=[[x for x in j]for j in i ]\n",
        "    df.iloc[i1,11]=np.array([2])\n",
        "  if x=='fatigue(Mild)' :\n",
        "    i=np.where(df['Fatigue ']== 'fatigue(Mild)')\n",
        "    i1=[[x for x in j]for j in i ]\n",
        "    df.iloc[i1,11]=np.array([2])  \n",
        "  if x=='fatigue(Mild)\"' :\n",
        "    i=np.where(df['Fatigue ']== 'fatigue(Mild)\"')\n",
        "    i1=[[x for x in j]for j in i ]\n",
        "    df.iloc[i1,11]=np.array([2])  \n",
        "  if x=='fatigue(Moderate)\"' :\n",
        "    i=np.where(df['Fatigue ']== 'fatigue(Moderate)\"')\n",
        "    i1=[[x for x in j]for j in i ]\n",
        "    df.iloc[i1,11]=np.array([2]) \n",
        "  if x=='fatigue(Severe)' :\n",
        "    i=np.where(df['Fatigue ']== 'fatigue(Severe)')\n",
        "    i1=[[x for x in j]for j in i ]\n",
        "    df.iloc[i1,11]=np.array([3])\n",
        "  if x=='fatigue(4)' :\n",
        "    i=np.where(df['Fatigue ']== 'fatigue(4)')\n",
        "    i1=[[x for x in j]for j in i ]\n",
        "    df.iloc[i1,11]=np.array([2]) \n",
        "  if x=='fatigue(EH)\"' :\n",
        "    i=np.where(df['Fatigue ']== 'fatigue(EH)\"')\n",
        "    i1=[[x for x in j]for j in i ]\n",
        "    df.iloc[i1,11]=np.array([2])        \n",
        "  if x=='fatigue(None)' :\n",
        "    i=np.where(df['Fatigue ']== 'fatigue(None)')\n",
        "    i1=[[x for x in j]for j in i ]\n",
        "    df.iloc[i1,11]=np.array([-1])\n",
        "  else:\n",
        "    for x in df['Fatigue '].value_counts().index[5:]:\n",
        "      i=np.where(df['Fatigue '] == x)\n",
        "      i1=[[x for x in j]for j in i ]\n",
        "      df.iloc[i1,11]=np.array([-1])             "
      ]
    },
    {
      "cell_type": "code",
      "execution_count": null,
      "metadata": {
        "id": "hL3b0EMhCWUB"
      },
      "outputs": [],
      "source": [
        "Gastrointestinal =[]\n",
        "d = df['Gastrointestinal '].value_counts()\n",
        "for x in  d.index:\n",
        "  Gastrointestinal.append(x)\n"
      ]
    },
    {
      "cell_type": "code",
      "execution_count": null,
      "metadata": {
        "id": "N4BMLNZMChwH"
      },
      "outputs": [],
      "source": [
        "for x in Gastrointestinal:\n",
        "  if x=='Yes' :\n",
        "    i=np.where(df['Gastrointestinal ']== 'Yes')\n",
        "    i1=[[x for x in j]for j in i ]\n",
        "    df.iloc[i1,12]=np.array([1])\n",
        "  if x=='diarrhea(Yes)' :\n",
        "    i=np.where(df['Gastrointestinal ']== 'diarrhea(Yes)')\n",
        "    i1=[[x for x in j]for j in i ]\n",
        "    df.iloc[i1,12]=np.array([1]) \n",
        "  else :\n",
        "    i=np.where(df['Gastrointestinal ']== 'No')\n",
        "    i1=[[x for x in j]for j in i ]\n",
        "    df.iloc[i1,12]=np.array([0])\n"
      ]
    },
    {
      "cell_type": "code",
      "execution_count": null,
      "metadata": {
        "id": "9hG2sBi149aS"
      },
      "outputs": [],
      "source": [
        "d =df['Fever'].value_counts()\n",
        "fever = []\n",
        "for x in  d.index:\n",
        "  fever.append(x)\n"
      ]
    },
    {
      "cell_type": "code",
      "execution_count": null,
      "metadata": {
        "id": "x6j_yDUx1S9e"
      },
      "outputs": [],
      "source": [
        "for x in fever:\n",
        "  if x=='Yes' :\n",
        "    i=np.where(df['Fever']== 'Yes')\n",
        "    i1=[[x for x in j]for j in i ]\n",
        "    df.iloc[i1,1]=np.array([1])\n",
        "  elif x=='fever(Yes)' :\n",
        "    i=np.where(df['Fever']== 'fever(Yes)')\n",
        "    i1=[[x for x in j]for j in i ]\n",
        "    df.iloc[i1,1]=np.array([1]) \n",
        "  elif x=='fever(TRUE)\"' :\n",
        "    i=np.where(df['Fever']== 'fever(TRUE)\"')\n",
        "    i1=[[x for x in j]for j in i ]\n",
        "    df.iloc[i1,1]=np.array([1])\n",
        "  elif x=='fever(Yes)\"' :\n",
        "    i=np.where(df['Fever']== 'fever(Yes)\"')\n",
        "    i1=[[x for x in j]for j in i ]\n",
        "    df.iloc[i1,1]=np.array([1])\n",
        "  elif x=='No' :\n",
        "    i=np.where(df['Fever']== 'No')\n",
        "    i1=[[x for x in j]for j in i ]\n",
        "    df.iloc[i1,1]=np.array([0])\n",
        "  elif x=='fever(No)' :\n",
        "    i=np.where(df['Fever']== 'fever(No)')\n",
        "    i1=[[x for x in j]for j in i ]\n",
        "    df.iloc[i1,1]=np.array([0]) \n",
        "  elif x=='fever(None)' :\n",
        "    i=np.where(df['Fever']== 'fever(None)')\n",
        "    i1=[[x for x in j]for j in i ]\n",
        "    df.iloc[i1,1]=np.array([-1])\n",
        "  elif x=='fever(None)\"' :\n",
        "    i=np.where(df['Fever']== 'fever(None)\"')\n",
        "    i1=[[x for x in j]for j in i ]\n",
        "    df.iloc[i1,1]=np.array([-1])    \n",
        "  elif x=='temperature(101.84)' :\n",
        "    i=np.where(df['Fever']== 'temperature(101.84)')\n",
        "    i1=[[x for x in j]for j in i ]\n",
        "    df.iloc[i1,1]=np.array([2]) \n",
        "  elif x=='high_temp_home(101.7)' :\n",
        "    i=np.where(df['Fever']== 'high_temp_home(101.7)')\n",
        "    i1=[[x for x in j]for j in i ]\n",
        "    df.iloc[i1,1]=np.array([2]) \n",
        "  elif x=='temperature(100.2)' :\n",
        "    i=np.where(df['Fever']== 'temperature(100.2)')\n",
        "    i1=[[x for x in j]for j in i ]\n",
        "    df.iloc[i1,1]=np.array([2])\n",
        "  elif x=='temperature(100.1)' :\n",
        "    i=np.where(df['Fever']== 'temperature(100.1)')\n",
        "    i1=[[x for x in j]for j in i ]\n",
        "    df.iloc[i1,1]=np.array([2])    \n",
        "  elif x=='temperature(101.66)' :\n",
        "    i=np.where(df['Fever']== 'temperature(101.66)')\n",
        "    i1=[[x for x in j]for j in i ]\n",
        "    df.iloc[i1,1]=np.array([2]) \n",
        "  elif x=='high_temp_home(101.12)' :\n",
        "    i=np.where(df['Fever']== 'high_temp_home(101.12)')\n",
        "    i1=[[x for x in j]for j in i ]\n",
        "    df.iloc[i1,1]=np.array([2]) \n",
        "  elif x=='temperature(101.66)' :\n",
        "    i=np.where(df['Fever']== 'temperature(101.66)')\n",
        "    i1=[[x for x in j]for j in i ]\n",
        "    df.iloc[i1,1]=np.array([2]) \n",
        "  elif x=='temperature(100.8)\"' :\n",
        "    i=np.where(df['Fever']== 'temperature(100.8)\"')\n",
        "    i1=[[x for x in j]for j in i ]\n",
        "    df.iloc[i1,1]=np.array([2])   \n",
        "  elif x=='fever(Mild)' :\n",
        "    i=np.where(df['Fever']== 'fever(Mild)')\n",
        "    i1=[[x for x in j]for j in i ]\n",
        "    df.iloc[i1,1]=np.array([2])\n",
        "  elif x=='fever(Moderate)' :\n",
        "    i=np.where(df['Fever']== 'fever(Moderate)')\n",
        "    i1=[[x for x in j]for j in i ]\n",
        "    df.iloc[i1,1]=np.array([2])\n",
        "  elif x=='temperature(100.8)\"' :\n",
        "    i=np.where(df['Fever']== 'temperature(100.8)\"')\n",
        "    i1=[[x for x in j]for j in i ]\n",
        "    df.iloc[i1,1]=np.array([2]) \n",
        "  else:\n",
        "    for x in df['Fever'].value_counts().index[4:10]:\n",
        "      i=np.where(df['Fever'] == x)\n",
        "      i1=[[x for x in j]for j in i ]\n",
        "      df.iloc[i1,1]=np.array([4]) \n",
        "    for x in df['Fever'].value_counts().index[4:-6]:\n",
        "      i=np.where(df['Fever'] == x)\n",
        "      i1=[[x for x in j]for j in i ]\n",
        "      df.iloc[i1,1]=np.array([2])  \n",
        "    for x in df['Fever'].value_counts().index[4:]:\n",
        "      i=np.where(df['Fever'] == x)\n",
        "      i1=[[x for x in j]for j in i ]\n",
        "      df.iloc[i1,1]=np.array([4])  \n",
        "\n",
        "                       \n",
        "    "
      ]
    },
    {
      "cell_type": "code",
      "execution_count": null,
      "metadata": {
        "id": "ZF2qtRx0yw-d"
      },
      "outputs": [],
      "source": [
        "Sore_throat = ['Yes','No','throat(Yes)','throat(No)','throat(Unk)']"
      ]
    },
    {
      "cell_type": "code",
      "execution_count": null,
      "metadata": {
        "id": "q2gLgCrOwcW5"
      },
      "outputs": [],
      "source": [
        "for x in Sore_throat:\n",
        "  if x=='Yes' :\n",
        "    i=np.where(df['Sore throat']== 'Yes')\n",
        "    i1=[[x for x in j]for j in i ]\n",
        "    df.iloc[i1,3]=np.array([1])\n",
        "  if x=='throat(Yes)' :\n",
        "    i=np.where(df['Sore throat']== 'throat(Yes)')\n",
        "    i1=[[x for x in j]for j in i ]\n",
        "    df.iloc[i1,3]=np.array([1]) \n",
        "  if x=='No' :\n",
        "    i=np.where(df['Sore throat']== 'No')\n",
        "    i1=[[x for x in j]for j in i ]\n",
        "    df.iloc[i1,3]=np.array([0])\n",
        "  if x=='throat(No)' :\n",
        "    i=np.where(df['Sore throat']== 'throat(No)')\n",
        "    i1=[[x for x in j]for j in i ]\n",
        "    df.iloc[i1,3]=np.array([0])\n",
        "  if x=='throat(Unk)' :\n",
        "    i=np.where(df['Sore throat']== 'throat(Unk)')\n",
        "    i1=[[x for x in j]for j in i ]\n",
        "    df.iloc[i1,3]=np.array([-1])"
      ]
    },
    {
      "cell_type": "code",
      "execution_count": null,
      "metadata": {
        "id": "E7oYhWzZvlZJ"
      },
      "outputs": [],
      "source": [
        "Running_Nose = ['Yes','No','running nose(Yes)','running nose(No)','running nose(Mild)',\n",
        "                'running nose(None)','running nose(Unk)','running nose(4)']"
      ]
    },
    {
      "cell_type": "code",
      "execution_count": null,
      "metadata": {
        "id": "R6Ju8oY4vzVI"
      },
      "outputs": [],
      "source": [
        "for x in Running_Nose:\n",
        "  if x=='Yes' :\n",
        "    i=np.where(df['Running Nose']== 'Yes')\n",
        "    i1=[[x for x in j]for j in i ]\n",
        "    df.iloc[i1,4]=np.array([1])\n",
        "  if x=='running nose(Yes)' :\n",
        "    i=np.where(df['Running Nose']== 'running nose(Yes)')\n",
        "    i1=[[x for x in j]for j in i ]\n",
        "    df.iloc[i1,4]=np.array([1]) \n",
        "  if x=='No' :\n",
        "    i=np.where(df['Running Nose']== 'No')\n",
        "    i1=[[x for x in j]for j in i ]\n",
        "    df.iloc[i1,4]=np.array([0])\n",
        "  if x=='running nose(No)' :\n",
        "    i=np.where(df['Running Nose']== 'running nose(No)')\n",
        "    i1=[[x for x in j]for j in i ]\n",
        "    df.iloc[i1,4]=np.array([0])\n",
        "  if x=='running nose(None)' :\n",
        "    i=np.where(df['Running Nose']== 'running nose(None)')\n",
        "    i1=[[x for x in j]for j in i ]\n",
        "    df.iloc[i1,4]=np.array([-1])  \n",
        "  if x=='running nose(Unk)' :\n",
        "    i=np.where(df['Running Nose'] == 'running nose(Unk)')\n",
        "    i1=[[x for x in j]for j in i ]\n",
        "    df.iloc[i1,4]=np.array([-1]) \n",
        "  if x=='running nose(4)' :\n",
        "    i=np.where(df['Running Nose'] == 'running nose(4)')\n",
        "    i1=[[x for x in j]for j in i ]\n",
        "    df.iloc[i1,4]=np.array([3])  \n",
        "  if x=='running nose(Mild)' :\n",
        "    i=np.where(df['Running Nose'] == 'running nose(Mild)')\n",
        "    i1=[[x for x in j]for j in i ]\n",
        "    df.iloc[i1,4]=np.array([2])           \n",
        "\n",
        "\n",
        "    \n",
        "    "
      ]
    },
    {
      "cell_type": "code",
      "execution_count": null,
      "metadata": {
        "id": "MipndyWMte3W"
      },
      "outputs": [],
      "source": [
        "Hyper_Tension = ['No','Yes','chills(Yes)','chills(No)','chills(Unk)','nausea(Yes)']\n"
      ]
    },
    {
      "cell_type": "code",
      "execution_count": null,
      "metadata": {
        "id": "I9Lvtnflt021"
      },
      "outputs": [],
      "source": [
        "for x in Hyper_Tension:\n",
        "  if x=='Yes' :\n",
        "    i=np.where(df['Hyper Tension']== 'Yes')\n",
        "    i1=[[x for x in j]for j in i ]\n",
        "    df.iloc[i1,10]=np.array([1])\n",
        "  if x=='No' :\n",
        "    i=np.where(df['Hyper Tension']== 'No')\n",
        "    i1=[[x for x in j]for j in i ]\n",
        "    df.iloc[i1,10]=np.array([0]) \n",
        "  if x=='chills(Yes)' :\n",
        "    i=np.where(df['Hyper Tension']== 'chills(Yes)')\n",
        "    i1=[[x for x in j]for j in i ]\n",
        "    df.iloc[i1,10]=np.array([1])\n",
        "  if x=='chills(No)' :\n",
        "    i=np.where(df['Hyper Tension']== 'chills(No)')\n",
        "    i1=[[x for x in j]for j in i ]\n",
        "    df.iloc[i1,10]=np.array([0])\n",
        "  if x=='chills(Unk)' :\n",
        "    i=np.where(df['Hyper Tension']== 'chills(Unk)')\n",
        "    i1=[[x for x in j]for j in i ]\n",
        "    df.iloc[i1,10]=np.array([-1])  \n",
        "  if x=='nausea(Yes)' :\n",
        "    i=np.where(df['Hyper Tension']== 'nausea(Yes)')\n",
        "    i1=[[x for x in j]for j in i ]\n",
        "    df.iloc[i1,10]=np.array([-1])    \n",
        "\n",
        "\n",
        "    \n",
        "    "
      ]
    },
    {
      "cell_type": "code",
      "execution_count": null,
      "metadata": {
        "id": "MxOC7uiIDOpn"
      },
      "outputs": [],
      "source": [
        "Headache = ['Yes','No','aches(Yes)','headache(None)','headache(Mild)','headache(Severe)','headache(Moderate)',\n",
        "            'headache(4)','aches(No)','aches(Unk)','headache(Yes)','headache(Not reported)',\n",
        "            'headache(TRUE)','throat(ukn)']"
      ]
    },
    {
      "cell_type": "code",
      "execution_count": null,
      "metadata": {
        "id": "Tr7GYQgPD8aY"
      },
      "outputs": [],
      "source": [
        "for x in Headache:\n",
        "  if x=='Yes' :\n",
        "    i=np.where(df['Headache']== 'Yes')\n",
        "    i1=[[x for x in j]for j in i ]\n",
        "    df.iloc[i1,7]=np.array([1])\n",
        "#for x in Dry_Cough:    \n",
        "  if x=='aches(Yes)' :\n",
        "    i=np.where(df['Headache']== 'aches(Yes)')\n",
        "    i1=[[x for x in j]for j in i ]\n",
        "    df.iloc[i1,7]=np.array([1])\n",
        "#for x in Dry_Cough:    \n",
        "  if x=='headache(TRUE)' :\n",
        "    i=np.where(df['Headache']== 'headache(TRUE)')\n",
        "    i1=[[x for x in j]for j in i ]\n",
        "    df.iloc[i1,7]=np.array([1])\n",
        "  if x=='headache(Yes)' :\n",
        "    i=np.where(df['Headache']== 'headache(Yes)')\n",
        "    i1=[[x for x in j]for j in i ]\n",
        "    df.iloc[i1,7]=np.array([1])    \n",
        "#for x in Dry_Cough:    \n",
        "  if x=='headache(Moderate)' :\n",
        "    i=np.where(df['Headache']== 'headache(Moderate)')\n",
        "    i1=[[x for x in j]for j in i ]\n",
        "    df.iloc[i1,7]=np.array([2])\n",
        "  if x=='headache(Mild)' :\n",
        "    i=np.where(df['Headache']== 'headache(Mild)')\n",
        "    i1=[[x for x in j]for j in i ]\n",
        "    df.iloc[i1,7]=np.array([2])  \n",
        "#for x in Dry_Cough:    \n",
        "  if x=='headache(Severe)' :\n",
        "    i=np.where(df['Headache']== 'headache(Severe)')\n",
        "    i1=[[x for x in j]for j in i ]\n",
        "    df.iloc[i1,7]=np.array([3])    \n",
        "#for x in Dry_Cough:    \n",
        "  if x=='headache(4)' :\n",
        "    i=np.where(df['Headache']== 'headache(4)')\n",
        "    i1=[[x for x in j]for j in i ]\n",
        "    df.iloc[i1,7]=np.array([3])      \n",
        "#for x in Dry_Cough:    \n",
        "  if x=='No' :\n",
        "    i=np.where(df['Headache']== 'No')\n",
        "    i1=[[x for x in j]for j in i ]\n",
        "    df.iloc[i1,7]=np.array([0])\n",
        "#for x in Dry_Cough:      \n",
        "  if x=='aches(No)' :\n",
        "    i=np.where(df['Headache']== 'aches(No)')\n",
        "    i1=[[x for x in j]for j in i ]\n",
        "    df.iloc[i1,7]=np.array([0])\n",
        "#for x in Dry_Cough:    \n",
        "  if x=='headache(None)':\n",
        "    i=np.where(df['Headache']== 'headache(None)')\n",
        "    i1=[[x for x in j]for j in i ]\n",
        "    df.iloc[i1,7]=np.array([-1]) \n",
        "#for x in Dry_Cough:    \n",
        "  if x=='aches(Unk)' :\n",
        "    i=np.where(df['Headache']== 'aches(Unk)')\n",
        "    i1=[[x for x in j]for j in i ]\n",
        "    df.iloc[i1,7]=np.array([-1])  \n",
        "  if x=='headache(Not reported)' :\n",
        "    i=np.where(df['Headache']== 'headache(Not reported)')\n",
        "    i1=[[x for x in j]for j in i ]\n",
        "    df.iloc[i1,7]=np.array([-1])       \n",
        "  if x=='throat(ukn)' :\n",
        "    i=np.where(df['Headache']== 'throat(ukn)')\n",
        "    i1=[[x for x in j]for j in i ]\n",
        "    df.iloc[i1,7]=np.array([-1])  \n",
        "\n"
      ]
    },
    {
      "cell_type": "code",
      "execution_count": null,
      "metadata": {
        "id": "uXItZsju_YqZ"
      },
      "outputs": [],
      "source": [
        "Dry_Cough = ['Yes','No','cough(Yes)','cough(None)','cough(Mild)','cough(4)','cough(TRUE)',\n",
        "             'cough(Moderate)','cough(No)','cough(Not reported)','chills(Yes)']\n",
        "             "
      ]
    },
    {
      "cell_type": "code",
      "execution_count": null,
      "metadata": {
        "id": "yRTY7ryaAARE"
      },
      "outputs": [],
      "source": [
        "for x in Dry_Cough:\n",
        "  if x=='Yes' :\n",
        "    i=np.where(df['Dry Cough']== 'Yes')\n",
        "    i1=[[x for x in j]for j in i ]\n",
        "    df.iloc[i1,2]=np.array([1])\n",
        "#for x in Dry_Cough:    \n",
        "  if x=='cough(Yes)' :\n",
        "    i=np.where(df['Dry Cough']== 'cough(Yes)')\n",
        "    i1=[[x for x in j]for j in i ]\n",
        "    df.iloc[i1,2]=np.array([0.8])\n",
        "#for x in Dry_Cough:    \n",
        "  if x=='cough(TRUE)' :\n",
        "    i=np.where(df['Dry Cough']== 'cough(TRUE)')\n",
        "    i1=[[x for x in j]for j in i ]\n",
        "    df.iloc[i1,2]=np.array([0.8])\n",
        "#for x in Dry_Cough:    \n",
        "  if x=='cough(Mild)' :\n",
        "    i=np.where(df['Dry Cough']== 'cough(Mild)')\n",
        "    i1=[[x for x in j]for j in i ]\n",
        "    df.iloc[i1,2]=np.array([2])\n",
        "#for x in Dry_Cough:    \n",
        "  if x=='cough(Moderate)' :\n",
        "    i=np.where(df['Dry Cough']== 'cough(Moderate)')\n",
        "    i1=[[x for x in j]for j in i ]\n",
        "    df.iloc[i1,2]=np.array([2])    \n",
        "#for x in Dry_Cough:    \n",
        "  if x=='cough(4)' :\n",
        "    i=np.where(df['Dry Cough']== 'cough(4)')\n",
        "    i1=[[x for x in j]for j in i ]\n",
        "    df.iloc[i1,2]=np.array([3])      \n",
        "#for x in Dry_Cough:    \n",
        "  if x=='No' :\n",
        "    i=np.where(df['Dry Cough']== 'No')\n",
        "    i1=[[x for x in j]for j in i ]\n",
        "    df.iloc[i1,2]=np.array([0])\n",
        "#for x in Dry_Cough:      \n",
        "  if x=='cough(No)' :\n",
        "    i=np.where(df['Dry Cough']== 'cough(No)')\n",
        "    i1=[[x for x in j]for j in i ]\n",
        "    df.iloc[i1,2]=np.array([0])\n",
        "#for x in Dry_Cough:    \n",
        "  if x=='cough(None)' :\n",
        "    i=np.where(df['Dry Cough']== 'cough(None)')\n",
        "    i1=[[x for x in j]for j in i ]\n",
        "    df.iloc[i1,2]=np.array([-1]) \n",
        "#for x in Dry_Cough:    \n",
        "  if x=='cough(Not reported)' :\n",
        "    i=np.where(df['Dry Cough']== 'cough(Not reported)')\n",
        "    i1=[[x for x in j]for j in i ]\n",
        "    df.iloc[i1,2]=np.array([-1])  \n",
        "  if x=='chills(Yes)' :\n",
        "    i=np.where(df['Dry Cough']== 'chills(Yes)')\n",
        "    i1=[[x for x in j]for j in i ]\n",
        "    df.iloc[i1,2]=np.array([-1])       \n",
        "\n",
        "\n"
      ]
    },
    {
      "cell_type": "code",
      "execution_count": null,
      "metadata": {
        "id": "1nFRKzC-6EAC"
      },
      "outputs": [],
      "source": [
        "Breathing_Problem = ['Yes','No','dyspnea(No)\"','dyspnea(Yes)\"','dyspnea(Unk)\"']"
      ]
    },
    {
      "cell_type": "code",
      "execution_count": null,
      "metadata": {
        "id": "KQzJMUvf6nHj"
      },
      "outputs": [],
      "source": [
        "for x in Breathing_Problem:\n",
        "  if x=='Yes' :\n",
        "    i=np.where(df['Breathing Problem']== 'Yes')\n",
        "    i1=[[x for x in j]for j in i ]\n",
        "    df.iloc[i1,0]=np.array([1])\n",
        "for x in Breathing_Problem:    \n",
        "  if x=='dyspnea(Yes)\"' :\n",
        "    i=np.where(df['Breathing Problem']== 'dyspnea(Yes)\"')\n",
        "    i1=[[x for x in j]for j in i ]\n",
        "    df.iloc[i1,0]=np.array([1])\n",
        "for x in Breathing_Problem:    \n",
        "  if x=='No' :\n",
        "    i=np.where(df['Breathing Problem']== 'No')\n",
        "    i1=[[x for x in j]for j in i ]\n",
        "    df.iloc[i1,0]=np.array([0])\n",
        "for x in Breathing_Problem:      \n",
        "  if x=='dyspnea(No)\"' :\n",
        "    i=np.where(df['Breathing Problem']== 'dyspnea(No)\"')\n",
        "    i1=[[x for x in j]for j in i ]\n",
        "    df.iloc[i1,0]=np.array([0])\n",
        "for x in Breathing_Problem:    \n",
        "  if x=='dyspnea(Unk)\"' :\n",
        "    i=np.where(df['Breathing Problem']== 'dyspnea(Unk)\"')\n",
        "    i1=[[x for x in j]for j in i ]\n",
        "    df.iloc[i1,0]=np.array([-1])  \n",
        "\n",
        "\n"
      ]
    },
    {
      "cell_type": "code",
      "execution_count": null,
      "metadata": {
        "colab": {
          "base_uri": "https://localhost:8080/"
        },
        "id": "7HDsJPRyMANB",
        "outputId": "0530b23c-a318-425e-81b2-dc1148faf027"
      },
      "outputs": [
        {
          "output_type": "stream",
          "name": "stdout",
          "text": [
            "[array([1]), array([1]), array([1]), array([1]), array([1]), array([1]), array([1]), array([1]), array([1]), array([1])]\n"
          ]
        }
      ],
      "source": [
        "target=df['COVID-19-H1N1-NO']\n",
        "target_encoding=[]\n",
        "for x in target:\n",
        "  if x=='No':\n",
        "    target_encoding.append(np.array([0]))\n",
        "  elif  x=='H1N1':\n",
        "    target_encoding.append(np.array([1])) \n",
        "  else:\n",
        "    target_encoding.append(np.array([2]))\n",
        "\n",
        "print(target_encoding[-11:-1])\n",
        "target_encoding1=np.array(target_encoding)\n",
        "target_encoding=np.array(target_encoding)"
      ]
    },
    {
      "cell_type": "code",
      "execution_count": null,
      "metadata": {
        "id": "wh7OKMD5PuxA"
      },
      "outputs": [],
      "source": [
        "COVID =['No','H1N1','Yes']\n",
        "for x in COVID :    \n",
        "  if x=='No' :\n",
        "    i=np.where(df['COVID-19-H1N1-NO']== 'No')\n",
        "    i1=[[x for x in j]for j in i ]\n",
        "    df.iloc[i1,-1]=np.array([0])      \n",
        "  if x=='H1N1' :\n",
        "    i=np.where(df['COVID-19-H1N1-NO']== 'H1N1')\n",
        "    i1=[[x for x in j]for j in i ]\n",
        "    df.iloc[i1,-1]=np.array([1])   \n",
        "  if x=='Yes' :\n",
        "    i=np.where(df['COVID-19-H1N1-NO']== 'Yes')\n",
        "    i1=[[x for x in j]for j in i ]\n",
        "    df.iloc[i1,-1]=np.array([2])"
      ]
    },
    {
      "cell_type": "code",
      "execution_count": null,
      "metadata": {
        "id": "R9Y2kdZfJ2RX"
      },
      "outputs": [],
      "source": [
        "one_hot_encoded = pd.get_dummies(df[['Asthma', 'Chronic Lung Disease', \n",
        "       'Heart Disease', 'Diabetes', \n",
        "       'Abroad travel', 'Contact with COVID Patient',\n",
        "       'Attended Large Gathering', 'Visited Public Exposed Places',\n",
        "       'Family working in Public Exposed Places', 'Wearing Masks',\n",
        "       'Sanitization from Market']], prefix_sep='_', drop_first=False)"
      ]
    },
    {
      "cell_type": "code",
      "execution_count": null,
      "metadata": {
        "id": "_0HzbreUOOqk"
      },
      "outputs": [],
      "source": [
        "#one_hot_encoded "
      ]
    },
    {
      "cell_type": "code",
      "execution_count": null,
      "metadata": {
        "id": "NC4TXHiAOXuC"
      },
      "outputs": [],
      "source": [
        "\n",
        "arithmical_relation = df[['Breathing Problem','Fever','Dry Cough','Sore throat',\n",
        "                          'Sore throat','Headache','Hyper Tension','Fatigue ', 'Gastrointestinal ' ,'COVID-19-H1N1-NO']]"
      ]
    },
    {
      "cell_type": "code",
      "execution_count": null,
      "metadata": {
        "id": "qUAm-xCCPghA"
      },
      "outputs": [],
      "source": [
        "#arithmical_relation"
      ]
    },
    {
      "cell_type": "code",
      "execution_count": null,
      "metadata": {
        "id": "02nXQWpdSySk"
      },
      "outputs": [],
      "source": [
        "data_num_new = pd.concat([arithmical_relation,one_hot_encoded ],axis=1, sort=False)\n",
        "data_num_new1 = pd.DataFrame(data_num_new)"
      ]
    },
    {
      "cell_type": "code",
      "execution_count": null,
      "metadata": {
        "colab": {
          "base_uri": "https://localhost:8080/"
        },
        "id": "GHY1ROunVqRb",
        "outputId": "da797258-e87a-40d6-954a-653169f017a4"
      },
      "outputs": [
        {
          "output_type": "execute_result",
          "data": {
            "text/plain": [
              "(6431, 30)"
            ]
          },
          "metadata": {},
          "execution_count": 31
        }
      ],
      "source": [
        "data_num_new1.shape"
      ]
    },
    {
      "cell_type": "code",
      "execution_count": null,
      "metadata": {
        "id": "MZ9EUoz5TEZN"
      },
      "outputs": [],
      "source": [
        "import seaborn as sns"
      ]
    },
    {
      "cell_type": "code",
      "execution_count": null,
      "metadata": {
        "id": "c666UqOaWOTa",
        "colab": {
          "base_uri": "https://localhost:8080/"
        },
        "outputId": "b90f1f52-45d6-4e70-e68a-d3036d888c41"
      },
      "outputs": [
        {
          "output_type": "stream",
          "name": "stdout",
          "text": [
            "Collecting category_encoders\n",
            "  Downloading category_encoders-2.3.0-py2.py3-none-any.whl (82 kB)\n",
            "\u001b[?25l\r\u001b[K     |████                            | 10 kB 25.7 MB/s eta 0:00:01\r\u001b[K     |████████                        | 20 kB 13.4 MB/s eta 0:00:01\r\u001b[K     |████████████                    | 30 kB 10.0 MB/s eta 0:00:01\r\u001b[K     |████████████████                | 40 kB 9.0 MB/s eta 0:00:01\r\u001b[K     |████████████████████            | 51 kB 5.5 MB/s eta 0:00:01\r\u001b[K     |████████████████████████        | 61 kB 5.7 MB/s eta 0:00:01\r\u001b[K     |████████████████████████████    | 71 kB 5.4 MB/s eta 0:00:01\r\u001b[K     |███████████████████████████████▉| 81 kB 6.1 MB/s eta 0:00:01\r\u001b[K     |████████████████████████████████| 82 kB 363 kB/s \n",
            "\u001b[?25hRequirement already satisfied: scikit-learn>=0.20.0 in /usr/local/lib/python3.7/dist-packages (from category_encoders) (1.0.2)\n",
            "Requirement already satisfied: scipy>=1.0.0 in /usr/local/lib/python3.7/dist-packages (from category_encoders) (1.4.1)\n",
            "Requirement already satisfied: statsmodels>=0.9.0 in /usr/local/lib/python3.7/dist-packages (from category_encoders) (0.10.2)\n",
            "Requirement already satisfied: numpy>=1.14.0 in /usr/local/lib/python3.7/dist-packages (from category_encoders) (1.19.5)\n",
            "Requirement already satisfied: pandas>=0.21.1 in /usr/local/lib/python3.7/dist-packages (from category_encoders) (1.1.5)\n",
            "Requirement already satisfied: patsy>=0.5.1 in /usr/local/lib/python3.7/dist-packages (from category_encoders) (0.5.2)\n",
            "Requirement already satisfied: python-dateutil>=2.7.3 in /usr/local/lib/python3.7/dist-packages (from pandas>=0.21.1->category_encoders) (2.8.2)\n",
            "Requirement already satisfied: pytz>=2017.2 in /usr/local/lib/python3.7/dist-packages (from pandas>=0.21.1->category_encoders) (2018.9)\n",
            "Requirement already satisfied: six in /usr/local/lib/python3.7/dist-packages (from patsy>=0.5.1->category_encoders) (1.15.0)\n",
            "Requirement already satisfied: threadpoolctl>=2.0.0 in /usr/local/lib/python3.7/dist-packages (from scikit-learn>=0.20.0->category_encoders) (3.0.0)\n",
            "Requirement already satisfied: joblib>=0.11 in /usr/local/lib/python3.7/dist-packages (from scikit-learn>=0.20.0->category_encoders) (1.1.0)\n",
            "Installing collected packages: category-encoders\n",
            "Successfully installed category-encoders-2.3.0\n"
          ]
        }
      ],
      "source": [
        "!pip install category_encoders"
      ]
    },
    {
      "cell_type": "code",
      "execution_count": null,
      "metadata": {
        "id": "asKYt7AgZSUQ",
        "colab": {
          "base_uri": "https://localhost:8080/"
        },
        "outputId": "09c9b4bf-4d35-4940-b8d9-d64b71809870"
      },
      "outputs": [
        {
          "output_type": "stream",
          "name": "stderr",
          "text": [
            "/usr/local/lib/python3.7/dist-packages/statsmodels/tools/_testing.py:19: FutureWarning: pandas.util.testing is deprecated. Use the functions in the public API at pandas.testing instead.\n",
            "  import pandas.util.testing as tm\n"
          ]
        }
      ],
      "source": [
        "import category_encoders as ce\n",
        "c5=one_hot_encoded.columns\n",
        "encoder5 = ce.TargetEncoder(cols=[x for x in c5])\n",
        "\n",
        "target_encoder_all2= encoder5.fit_transform(one_hot_encoded,target_encoding)"
      ]
    },
    {
      "cell_type": "code",
      "execution_count": null,
      "metadata": {
        "id": "-aBZs5SiWWhZ"
      },
      "outputs": [],
      "source": [
        "column4=['Breathing Problem','Fever','Dry Cough',\n",
        "        'Sore throat','Headache','Hyper Tension','Fatigue ',\n",
        "         'Gastrointestinal ' ,'COVID-19-H1N1-NO']\n",
        "encoder4 = ce.TargetEncoder(cols=[x for x in column4])\n",
        "target_encoder_all= encoder4.fit_transform(df[['Breathing Problem','Fever','Dry Cough',\n",
        "        'Sore throat','Headache','Hyper Tension','Fatigue ',\n",
        "         'Gastrointestinal ' ,'COVID-19-H1N1-NO']],target_encoding)"
      ]
    },
    {
      "cell_type": "code",
      "execution_count": null,
      "metadata": {
        "id": "I3IOYVgA9KvE"
      },
      "outputs": [],
      "source": [
        "df2 =df"
      ]
    },
    {
      "cell_type": "code",
      "execution_count": null,
      "metadata": {
        "id": "W-sfX8S98wtS",
        "colab": {
          "base_uri": "https://localhost:8080/"
        },
        "outputId": "a870c9c9-264c-465c-a2bf-3159e9cd670c"
      },
      "outputs": [
        {
          "output_type": "execute_result",
          "data": {
            "text/plain": [
              "Breathing Problem                          int64\n",
              "Fever                                      int64\n",
              "Dry Cough                                  int64\n",
              "Sore throat                                int64\n",
              "Running Nose                               int64\n",
              "Asthma                                     int64\n",
              "Chronic Lung Disease                       int64\n",
              "Headache                                   int64\n",
              "Heart Disease                              int64\n",
              "Diabetes                                   int64\n",
              "Hyper Tension                              int64\n",
              "Fatigue                                    int64\n",
              "Gastrointestinal                           int64\n",
              "Abroad travel                              int64\n",
              "Contact with COVID Patient                 int64\n",
              "Attended Large Gathering                   int64\n",
              "Visited Public Exposed Places              int64\n",
              "Family working in Public Exposed Places    int64\n",
              "Wearing Masks                              int64\n",
              "Sanitization from Market                   int64\n",
              "COVID-19-H1N1-NO                           int64\n",
              "dtype: object"
            ]
          },
          "metadata": {},
          "execution_count": 37
        }
      ],
      "source": [
        "from sklearn.preprocessing import LabelEncoder\n",
        "var_mod = ['Asthma', 'Chronic Lung Disease', \n",
        "       'Heart Disease', 'Diabetes', \n",
        "       'Abroad travel', 'Contact with COVID Patient',\n",
        "       'Attended Large Gathering', 'Visited Public Exposed Places',\n",
        "       'Family working in Public Exposed Places', 'Wearing Masks',\n",
        "       'Sanitization from Market']\n",
        "le = LabelEncoder()\n",
        "for i in var_mod:\n",
        "    df2[i] = le.fit_transform(df2[i])\n",
        "df2 = df2.astype('int64')\n",
        "df2.dtypes"
      ]
    },
    {
      "cell_type": "code",
      "execution_count": null,
      "metadata": {
        "colab": {
          "base_uri": "https://localhost:8080/"
        },
        "id": "mqSWxE5H-AA_",
        "outputId": "2eb2e255-61dc-461e-ac92-d11597160e19"
      },
      "outputs": [
        {
          "output_type": "execute_result",
          "data": {
            "text/plain": [
              "(6431, 21)"
            ]
          },
          "metadata": {},
          "execution_count": 38
        }
      ],
      "source": [
        "df2.shape"
      ]
    },
    {
      "cell_type": "code",
      "execution_count": null,
      "metadata": {
        "id": "XBU7OnDcXCAi"
      },
      "outputs": [],
      "source": [
        "data_num_new = pd.concat([target_encoder_all,target_encoder_all2],axis=1, sort=False)\n",
        "data_num_new1 = pd.DataFrame(data_num_new)"
      ]
    },
    {
      "cell_type": "code",
      "execution_count": null,
      "metadata": {
        "id": "Xk_4JJj9cyuJ"
      },
      "outputs": [],
      "source": [
        "\n",
        "data_num_new1 =df2"
      ]
    },
    {
      "cell_type": "code",
      "execution_count": null,
      "metadata": {
        "id": "N_389dCYfAjk"
      },
      "outputs": [],
      "source": [
        "data_num_new1 = data_num_new1.drop('Wearing Masks', axis=1)\n",
        "data_num_new1 = data_num_new1.drop('Sanitization from Market', axis=1)"
      ]
    },
    {
      "cell_type": "code",
      "execution_count": null,
      "metadata": {
        "id": "IHFBDEOOjMxx"
      },
      "outputs": [],
      "source": [
        "data_num_new1.rename(columns={'COVID-19-H1N1-NO':'Neither COVID-19 Nor H1N1'}, inplace=True)\n",
        "\n",
        "#data_num_new1.rename(index = {'COVID-19-H1N1-NO':'Neither COVID-19 Nor H1N1'},\n",
        "#                                 inplace = True)"
      ]
    },
    {
      "cell_type": "code",
      "execution_count": null,
      "metadata": {
        "colab": {
          "base_uri": "https://localhost:8080/",
          "height": 855
        },
        "id": "_EVE9_gkUfaf",
        "outputId": "ee5e8a10-fe13-4e85-9e4d-38fa93deae7b"
      },
      "outputs": [
        {
          "output_type": "stream",
          "name": "stderr",
          "text": [
            "findfont: Font family ['normal'] not found. Falling back to DejaVu Sans.\n"
          ]
        },
        {
          "output_type": "display_data",
          "data": {
            "image/png": "[encoded data removed]",
            "text/plain": [
              "<Figure size 792x792 with 2 Axes>"
            ]
          },
          "metadata": {
            "needs_background": "light"
          }
        }
      ],
      "source": [
        "import matplotlib.pyplot as plt\n",
        "import matplotlib \n",
        "font = {'family' : 'normal',\n",
        "        'size'   : 10}\n",
        "SMALL_SIZE = 18     \n",
        "plt.rc('xtick', labelsize=SMALL_SIZE)    # fontsize of the tick labels\n",
        "plt.rc('ytick', labelsize=SMALL_SIZE)\n",
        "matplotlib.rc('font', **font) \n",
        "plt.figure(figsize=(11, 11))\n",
        "#plt.title('correlation between each features')\n",
        "corr =data_num_new1.corr()\n",
        "ax = sns.heatmap(\n",
        "    corr, \n",
        "    vmin=-1, vmax=1, center=0,\n",
        "    cmap=sns.diverging_palette(5, 220, n=50),\n",
        "    square=True\n",
        ")\n",
        "\n",
        "ax.set_xticklabels(    \n",
        "    ax.get_xticklabels(),\n",
        "    rotation=40,\n",
        "    horizontalalignment='right',\n",
        "    \n",
        "    \n",
        ");"
      ]
    },
    {
      "cell_type": "code",
      "execution_count": null,
      "metadata": {
        "id": "AFlVz38CwMM9"
      },
      "outputs": [],
      "source": [
        "from sklearn.feature_selection import VarianceThreshold"
      ]
    },
    {
      "cell_type": "code",
      "execution_count": null,
      "metadata": {
        "id": "_kvKv23EwRoY"
      },
      "outputs": [],
      "source": [
        "constant_filter = VarianceThreshold(threshold=0.12)"
      ]
    },
    {
      "cell_type": "code",
      "execution_count": null,
      "metadata": {
        "colab": {
          "base_uri": "https://localhost:8080/"
        },
        "id": "U_V-dBpoQV5L",
        "outputId": "f2b9f086-502c-4ffc-89e5-4be18bc4f2b5"
      },
      "outputs": [
        {
          "output_type": "execute_result",
          "data": {
            "text/plain": [
              "VarianceThreshold(threshold=0.12)"
            ]
          },
          "metadata": {},
          "execution_count": 46
        }
      ],
      "source": [
        "constant_filter.fit(data_num_new1)"
      ]
    },
    {
      "cell_type": "code",
      "execution_count": null,
      "metadata": {
        "colab": {
          "base_uri": "https://localhost:8080/"
        },
        "id": "uAtMHCtsQbp6",
        "outputId": "6c3fe768-1e80-4f00-ce78-d7ea5416c2e0"
      },
      "outputs": [
        {
          "output_type": "stream",
          "name": "stdout",
          "text": [
            "[]\n"
          ]
        }
      ],
      "source": [
        "constant_columns = [column for column in data_num_new1.columns\n",
        "                    if column not in data_num_new1.columns[constant_filter.get_support()]]\n",
        "\n",
        "print(constant_columns)"
      ]
    },
    {
      "cell_type": "code",
      "execution_count": null,
      "metadata": {
        "colab": {
          "base_uri": "https://localhost:8080/"
        },
        "id": "HNgkhGGQjkpd",
        "outputId": "6912e090-ba0e-4f52-804f-d0e1368ded83"
      },
      "outputs": [
        {
          "output_type": "execute_result",
          "data": {
            "text/plain": [
              "(6431, 19)"
            ]
          },
          "metadata": {},
          "execution_count": 48
        }
      ],
      "source": [
        "data_num_new1.shape"
      ]
    },
    {
      "cell_type": "code",
      "execution_count": null,
      "metadata": {
        "id": "YH6URVcA-2p1",
        "colab": {
          "base_uri": "https://localhost:8080/",
          "height": 356
        },
        "outputId": "b3bde2b5-0359-4b5f-ce27-f6bed89fdd56"
      },
      "outputs": [
        {
          "output_type": "execute_result",
          "data": {
            "text/html": [
              "\n",
              "  <div id=\"df-0bf15e08-2b0b-4a02-aa64-449559bda2b0\">\n",
              "    <div class=\"colab-df-container\">\n",
              "      <div>\n",
              "<style scoped>\n",
              "    .dataframe tbody tr th:only-of-type {\n",
              "        vertical-align: middle;\n",
              "    }\n",
              "\n",
              "    .dataframe tbody tr th {\n",
              "        vertical-align: top;\n",
              "    }\n",
              "\n",
              "    .dataframe thead th {\n",
              "        text-align: right;\n",
              "    }\n",
              "</style>\n",
              "<table border=\"1\" class=\"dataframe\">\n",
              "  <thead>\n",
              "    <tr style=\"text-align: right;\">\n",
              "      <th></th>\n",
              "      <th>Breathing Problem</th>\n",
              "      <th>Fever</th>\n",
              "      <th>Dry Cough</th>\n",
              "      <th>Sore throat</th>\n",
              "      <th>Running Nose</th>\n",
              "      <th>Asthma</th>\n",
              "      <th>Chronic Lung Disease</th>\n",
              "      <th>Headache</th>\n",
              "      <th>Heart Disease</th>\n",
              "      <th>Diabetes</th>\n",
              "      <th>Hyper Tension</th>\n",
              "      <th>Fatigue</th>\n",
              "      <th>Gastrointestinal</th>\n",
              "      <th>Abroad travel</th>\n",
              "      <th>Contact with COVID Patient</th>\n",
              "      <th>Attended Large Gathering</th>\n",
              "      <th>Visited Public Exposed Places</th>\n",
              "      <th>Family working in Public Exposed Places</th>\n",
              "      <th>Neither COVID-19 Nor H1N1</th>\n",
              "    </tr>\n",
              "  </thead>\n",
              "  <tbody>\n",
              "    <tr>\n",
              "      <th>0</th>\n",
              "      <td>1</td>\n",
              "      <td>1</td>\n",
              "      <td>1</td>\n",
              "      <td>1</td>\n",
              "      <td>1</td>\n",
              "      <td>0</td>\n",
              "      <td>0</td>\n",
              "      <td>0</td>\n",
              "      <td>0</td>\n",
              "      <td>1</td>\n",
              "      <td>1</td>\n",
              "      <td>1</td>\n",
              "      <td>1</td>\n",
              "      <td>0</td>\n",
              "      <td>1</td>\n",
              "      <td>0</td>\n",
              "      <td>1</td>\n",
              "      <td>1</td>\n",
              "      <td>2</td>\n",
              "    </tr>\n",
              "    <tr>\n",
              "      <th>1</th>\n",
              "      <td>1</td>\n",
              "      <td>1</td>\n",
              "      <td>1</td>\n",
              "      <td>1</td>\n",
              "      <td>0</td>\n",
              "      <td>1</td>\n",
              "      <td>1</td>\n",
              "      <td>1</td>\n",
              "      <td>0</td>\n",
              "      <td>0</td>\n",
              "      <td>0</td>\n",
              "      <td>1</td>\n",
              "      <td>0</td>\n",
              "      <td>0</td>\n",
              "      <td>0</td>\n",
              "      <td>1</td>\n",
              "      <td>1</td>\n",
              "      <td>0</td>\n",
              "      <td>2</td>\n",
              "    </tr>\n",
              "    <tr>\n",
              "      <th>2</th>\n",
              "      <td>1</td>\n",
              "      <td>1</td>\n",
              "      <td>1</td>\n",
              "      <td>1</td>\n",
              "      <td>1</td>\n",
              "      <td>1</td>\n",
              "      <td>1</td>\n",
              "      <td>1</td>\n",
              "      <td>0</td>\n",
              "      <td>1</td>\n",
              "      <td>0</td>\n",
              "      <td>1</td>\n",
              "      <td>1</td>\n",
              "      <td>1</td>\n",
              "      <td>0</td>\n",
              "      <td>0</td>\n",
              "      <td>0</td>\n",
              "      <td>0</td>\n",
              "      <td>2</td>\n",
              "    </tr>\n",
              "    <tr>\n",
              "      <th>3</th>\n",
              "      <td>1</td>\n",
              "      <td>1</td>\n",
              "      <td>1</td>\n",
              "      <td>0</td>\n",
              "      <td>0</td>\n",
              "      <td>1</td>\n",
              "      <td>0</td>\n",
              "      <td>0</td>\n",
              "      <td>1</td>\n",
              "      <td>1</td>\n",
              "      <td>0</td>\n",
              "      <td>0</td>\n",
              "      <td>0</td>\n",
              "      <td>1</td>\n",
              "      <td>0</td>\n",
              "      <td>1</td>\n",
              "      <td>1</td>\n",
              "      <td>0</td>\n",
              "      <td>2</td>\n",
              "    </tr>\n",
              "    <tr>\n",
              "      <th>4</th>\n",
              "      <td>1</td>\n",
              "      <td>1</td>\n",
              "      <td>1</td>\n",
              "      <td>1</td>\n",
              "      <td>1</td>\n",
              "      <td>0</td>\n",
              "      <td>1</td>\n",
              "      <td>1</td>\n",
              "      <td>1</td>\n",
              "      <td>1</td>\n",
              "      <td>1</td>\n",
              "      <td>0</td>\n",
              "      <td>1</td>\n",
              "      <td>0</td>\n",
              "      <td>1</td>\n",
              "      <td>0</td>\n",
              "      <td>1</td>\n",
              "      <td>0</td>\n",
              "      <td>2</td>\n",
              "    </tr>\n",
              "  </tbody>\n",
              "</table>\n",
              "</div>\n",
              "      <button class=\"colab-df-convert\" onclick=\"convertToInteractive('df-0bf15e08-2b0b-4a02-aa64-449559bda2b0')\"\n",
              "              title=\"Convert this dataframe to an interactive table.\"\n",
              "              style=\"display:none;\">\n",
              "        \n",
              "  <svg xmlns=\"http://www.w3.org/2000/svg\" height=\"24px\"viewBox=\"0 0 24 24\"\n",
              "       width=\"24px\">\n",
              "    <path d=\"M0 0h24v24H0V0z\" fill=\"none\"/>\n",
              "    <path d=\"M18.56 5.44l.94 2.06.94-2.06 2.06-.94-2.06-.94-.94-2.06-.94 2.06-2.06.94zm-11 1L8.5 8.5l.94-2.06 2.06-.94-2.06-.94L8.5 2.5l-.94 2.06-2.06.94zm10 10l.94 2.06.94-2.06 2.06-.94-2.06-.94-.94-2.06-.94 2.06-2.06.94z\"/><path d=\"M17.41 7.96l-1.37-1.37c-.4-.4-.92-.59-1.43-.59-.52 0-1.04.2-1.43.59L10.3 9.45l-7.72 7.72c-.78.78-.78 2.05 0 2.83L4 21.41c.39.39.9.59 1.41.59.51 0 1.02-.2 1.41-.59l7.78-7.78 2.81-2.81c.8-.78.8-2.07 0-2.86zM5.41 20L4 18.59l7.72-7.72 1.47 1.35L5.41 20z\"/>\n",
              "  </svg>\n",
              "      </button>\n",
              "      \n",
              "  <style>\n",
              "    .colab-df-container {\n",
              "      display:flex;\n",
              "      flex-wrap:wrap;\n",
              "      gap: 12px;\n",
              "    }\n",
              "\n",
              "    .colab-df-convert {\n",
              "      background-color: #E8F0FE;\n",
              "      border: none;\n",
              "      border-radius: 50%;\n",
              "      cursor: pointer;\n",
              "      display: none;\n",
              "      fill: #1967D2;\n",
              "      height: 32px;\n",
              "      padding: 0 0 0 0;\n",
              "      width: 32px;\n",
              "    }\n",
              "\n",
              "    .colab-df-convert:hover {\n",
              "      background-color: #E2EBFA;\n",
              "      box-shadow: 0px 1px 2px rgba(60, 64, 67, 0.3), 0px 1px 3px 1px rgba(60, 64, 67, 0.15);\n",
              "      fill: #174EA6;\n",
              "    }\n",
              "\n",
              "    [theme=dark] .colab-df-convert {\n",
              "      background-color: #3B4455;\n",
              "      fill: #D2E3FC;\n",
              "    }\n",
              "\n",
              "    [theme=dark] .colab-df-convert:hover {\n",
              "      background-color: #434B5C;\n",
              "      box-shadow: 0px 1px 3px 1px rgba(0, 0, 0, 0.15);\n",
              "      filter: drop-shadow(0px 1px 2px rgba(0, 0, 0, 0.3));\n",
              "      fill: #FFFFFF;\n",
              "    }\n",
              "  </style>\n",
              "\n",
              "      <script>\n",
              "        const buttonEl =\n",
              "          document.querySelector('#df-0bf15e08-2b0b-4a02-aa64-449559bda2b0 button.colab-df-convert');\n",
              "        buttonEl.style.display =\n",
              "          google.colab.kernel.accessAllowed ? 'block' : 'none';\n",
              "\n",
              "        async function convertToInteractive(key) {\n",
              "          const element = document.querySelector('#df-0bf15e08-2b0b-4a02-aa64-449559bda2b0');\n",
              "          const dataTable =\n",
              "            await google.colab.kernel.invokeFunction('convertToInteractive',\n",
              "                                                     [key], {});\n",
              "          if (!dataTable) return;\n",
              "\n",
              "          const docLinkHtml = 'Like what you see? Visit the ' +\n",
              "            '<a target=\"_blank\" href=https://colab.research.google.com/notebooks/data_table.ipynb>data table notebook</a>'\n",
              "            + ' to learn more about interactive tables.';\n",
              "          element.innerHTML = '';\n",
              "          dataTable['output_type'] = 'display_data';\n",
              "          await google.colab.output.renderOutput(dataTable, element);\n",
              "          const docLink = document.createElement('div');\n",
              "          docLink.innerHTML = docLinkHtml;\n",
              "          element.appendChild(docLink);\n",
              "        }\n",
              "      </script>\n",
              "    </div>\n",
              "  </div>\n",
              "  "
            ],
            "text/plain": [
              "   Breathing Problem  ...  Neither COVID-19 Nor H1N1\n",
              "0                  1  ...                          2\n",
              "1                  1  ...                          2\n",
              "2                  1  ...                          2\n",
              "3                  1  ...                          2\n",
              "4                  1  ...                          2\n",
              "\n",
              "[5 rows x 19 columns]"
            ]
          },
          "metadata": {},
          "execution_count": 49
        }
      ],
      "source": [
        "data_num_new1.head()"
      ]
    },
    {
      "cell_type": "code",
      "execution_count": null,
      "metadata": {
        "id": "Y9E57zIHfpC3"
      },
      "outputs": [],
      "source": [
        "#data_num_new1 = data_num_new1.drop('Wearing Masks', axis=1)\n",
        "#data_num_new1 = data_num_new1.drop('Sanitization from Market', axis=1)\n",
        "data_num_new1 = data_num_new1.drop('Neither COVID-19 Nor H1N1', axis=1)\n"
      ]
    },
    {
      "cell_type": "code",
      "execution_count": null,
      "metadata": {
        "colab": {
          "base_uri": "https://localhost:8080/"
        },
        "id": "GmNH_iXSgOV2",
        "outputId": "b6edf728-f873-4165-dfe3-fdda5239f8a3"
      },
      "outputs": [
        {
          "output_type": "execute_result",
          "data": {
            "text/plain": [
              "(6431, 18)"
            ]
          },
          "metadata": {},
          "execution_count": 51
        }
      ],
      "source": [
        "data_num_new1.shape"
      ]
    },
    {
      "cell_type": "code",
      "execution_count": null,
      "metadata": {
        "colab": {
          "base_uri": "https://localhost:8080/"
        },
        "id": "RlGQ8Y_pgb0w",
        "outputId": "a36626d3-72d8-4988-9306-c153172f0261"
      },
      "outputs": [
        {
          "output_type": "stream",
          "name": "stdout",
          "text": [
            "(6431, 18) (6431,)\n"
          ]
        }
      ],
      "source": [
        "X = data_num_new1\n",
        "y = target_encoding1\n",
        "y =y.ravel()\n",
        "print(X.shape,y.shape)"
      ]
    },
    {
      "cell_type": "code",
      "execution_count": null,
      "metadata": {
        "id": "5MljcWeriGwp"
      },
      "outputs": [],
      "source": [
        ""
      ]
    },
    {
      "cell_type": "code",
      "execution_count": null,
      "metadata": {
        "id": "CVbFg4nZVX9M"
      },
      "outputs": [],
      "source": [
        "from xgboost import XGBClassifier\n",
        "from sklearn.model_selection import train_test_split\n",
        "from sklearn.metrics import accuracy_score"
      ]
    },
    {
      "cell_type": "code",
      "execution_count": null,
      "metadata": {
        "id": "Ejt6p2VRVlGz"
      },
      "outputs": [],
      "source": [
        "X_train, X_test, y_train, y_test = train_test_split(X, y, test_size=0.30, random_state=21)"
      ]
    },
    {
      "cell_type": "code",
      "source": [
        "from imblearn.over_sampling import SMOTE\n",
        "smote = SMOTE(sampling_strategy='minority',random_state=0)\n",
        "X_sm, y_sm = smote.fit_resample(X, y)\n",
        "print(X_sm.shape, y_sm.shape )"
      ],
      "metadata": {
        "colab": {
          "base_uri": "https://localhost:8080/"
        },
        "id": "wInRxLH9oij4",
        "outputId": "f267db18-e8e1-4584-bdcd-6ec835d1f821"
      },
      "execution_count": null,
      "outputs": [
        {
          "output_type": "stream",
          "name": "stdout",
          "text": [
            "(9819, 18) (9819,)\n"
          ]
        }
      ]
    },
    {
      "cell_type": "code",
      "source": [
        "import joblib\n",
        "import sys\n",
        "sys.modules['sklearn.externals.joblib'] = joblib"
      ],
      "metadata": {
        "id": "RtGz7EKkVPTa"
      },
      "execution_count": null,
      "outputs": []
    },
    {
      "cell_type": "code",
      "source": [
        "from mlxtend.feature_selection import SequentialFeatureSelector as SFS"
      ],
      "metadata": {
        "id": "UBvmtJlX003Y"
      },
      "execution_count": null,
      "outputs": []
    },
    {
      "cell_type": "code",
      "source": [
        "from sklearn.ensemble import RandomForestClassifier\n",
        "from sklearn.ensemble import VotingClassifier\n",
        "from sklearn.linear_model import LogisticRegression\n",
        "from sklearn.svm import SVC\n",
        "from sklearn.model_selection import GridSearchCV\n",
        "from sklearn.linear_model import LogisticRegression\n",
        "from sklearn.naive_bayes import GaussianNB \n",
        "from sklearn.ensemble import RandomForestClassifier\n"
      ],
      "metadata": {
        "id": "czlry_A22GM_"
      },
      "execution_count": null,
      "outputs": []
    },
    {
      "cell_type": "code",
      "source": [
        "from sklearn.ensemble import RandomForestRegressor"
      ],
      "metadata": {
        "id": "2k0Yif5V2PCf"
      },
      "execution_count": null,
      "outputs": []
    },
    {
      "cell_type": "code",
      "source": [
        "from google.colab import data_table\n",
        "data_table.enable_dataframe_formatter()"
      ],
      "metadata": {
        "id": "j_iNd3Hx_-N4"
      },
      "execution_count": null,
      "outputs": []
    },
    {
      "cell_type": "code",
      "source": [
        "from google.colab import data_table\n",
        "data_table.disable_dataframe_formatter()"
      ],
      "metadata": {
        "id": "8bqGzU80AAdZ"
      },
      "execution_count": null,
      "outputs": []
    },
    {
      "cell_type": "code",
      "source": [
        "from mlxtend.plotting import plot_sequential_feature_selection as plot_sfs"
      ],
      "metadata": {
        "id": "O1TYoRDe-v9A"
      },
      "execution_count": null,
      "outputs": []
    },
    {
      "cell_type": "code",
      "source": [
        "sfs = SFS(RandomForestClassifier(),\n",
        "           k_features=18,\n",
        "           forward=True,\n",
        "           floating=False,\n",
        "           scoring = 'accuracy',\n",
        "           cv = 5)\n",
        "#Use SFS to select the top 10 features \n",
        "sfs.fit(X_sm, y_sm)\n",
        "data_table.enable_dataframe_formatter()\n",
        "#Create a dataframe for the SFS results \n",
        "df_SFS_results = pd.DataFrame(sfs.subsets_).transpose()\n",
        "df_SFS_results"
      ],
      "metadata": {
        "colab": {
          "base_uri": "https://localhost:8080/",
          "height": 1071
        },
        "id": "nhUIp-ry0xqI",
        "outputId": "cba3c5ad-22b6-4edb-8a78-717dc2e257be"
      },
      "execution_count": null,
      "outputs": [
        {
          "output_type": "execute_result",
          "data": {
            "application/vnd.google.colaboratory.module+javascript": "\n      import \"https://ssl.gstatic.com/colaboratory/data_table/81f25a011006ed3d/data_table.js\";\n\n      window.createDataTable({\n        data: [[{\n            'v': 1,\n            'f': \"1\",\n        },\n[2],\n\"[0.82077393 0.82637475 0.83350305 0.64613035 0.73509934]\",\n{\n            'v': 0.772376283028284,\n            'f': \"0.772376283028284\",\n        },\n[\"Dry Cough\"]],\n [{\n            'v': 2,\n            'f': \"2\",\n        },\n[2, 11],\n\"[0.87118126 0.86659878 0.87270876 0.71792261 0.80489047]\",\n{\n            'v': 0.8266603758119923,\n            'f': \"0.8266603758119923\",\n        },\n[\"Dry Cough\", \"Fatigue \"]],\n [{\n            'v': 3,\n            'f': \"3\",\n        },\n[2, 3, 11],\n\"[0.97046843 0.89154786 0.88696538 0.79582485 0.84156903]\",\n{\n            'v': 0.8772751088622199,\n            'f': \"0.8772751088622199\",\n        },\n[\"Dry Cough\", \"Sore throat\", \"Fatigue \"]],\n [{\n            'v': 4,\n            'f': \"4\",\n        },\n[2, 3, 11, 13],\n\"[0.96486762 0.90885947 0.92260692 0.76731161 0.84207845]\",\n{\n            'v': 0.8811448145062475,\n            'f': \"0.8811448145062475\",\n        },\n[\"Dry Cough\", \"Sore throat\", \"Fatigue \", \"Abroad travel\"]],\n [{\n            'v': 5,\n            'f': \"5\",\n        },\n[0, 2, 3, 11, 13],\n\"[0.99032587 0.96435845 0.86507128 0.86405295 0.85328579]\",\n{\n            'v': 0.9074188682064216,\n            'f': \"0.9074188682064216\",\n        },\n[\"Breathing Problem\", \"Dry Cough\", \"Sore throat\", \"Fatigue \", \"Abroad travel\"]],\n [{\n            'v': 6,\n            'f': \"6\",\n        },\n[0, 2, 3, 11, 13, 14],\n\"[0.99032587 0.96639511 0.91904277 0.84775967 0.91390728]\",\n{\n            'v': 0.9274861412713612,\n            'f': \"0.9274861412713612\",\n        },\n[\"Breathing Problem\", \"Dry Cough\", \"Sore throat\", \"Fatigue \", \"Abroad travel\", \"Contact with COVID Patient\"]],\n [{\n            'v': 7,\n            'f': \"7\",\n        },\n[0, 1, 2, 3, 11, 13, 14],\n\"[0.98319756 0.95977597 0.93737271 0.87881874 0.91900153]\",\n{\n            'v': 0.9356332995446307,\n            'f': \"0.9356332995446307\",\n        },\n[\"Breathing Problem\", \"Fever\", \"Dry Cough\", \"Sore throat\", \"Fatigue \", \"Abroad travel\", \"Contact with COVID Patient\"]],\n [{\n            'v': 8,\n            'f': \"8\",\n        },\n[0, 1, 2, 3, 11, 12, 13, 14],\n\"[0.98268839 0.9898167  0.9607943  0.89918534 0.9246052 ]\",\n{\n            'v': 0.9514179842358583,\n            'f': \"0.9514179842358583\",\n        },\n[\"Breathing Problem\", \"Fever\", \"Dry Cough\", \"Sore throat\", \"Fatigue \", \"Gastrointestinal \", \"Abroad travel\", \"Contact with COVID Patient\"]],\n [{\n            'v': 9,\n            'f': \"9\",\n        },\n[0, 1, 2, 3, 8, 11, 12, 13, 14],\n\"[0.98014257 0.98676171 0.96486762 0.89562118 0.92103923]\",\n{\n            'v': 0.9496864602062806,\n            'f': \"0.9496864602062806\",\n        },\n[\"Breathing Problem\", \"Fever\", \"Dry Cough\", \"Sore throat\", \"Heart Disease\", \"Fatigue \", \"Gastrointestinal \", \"Abroad travel\", \"Contact with COVID Patient\"]],\n [{\n            'v': 10,\n            'f': \"10\",\n        },\n[0, 1, 2, 3, 4, 8, 11, 12, 13, 14],\n\"[0.97556008 0.98319756 0.96995927 0.90784114 0.93020886]\",\n{\n            'v': 0.9533533817580432,\n            'f': \"0.9533533817580432\",\n        },\n[\"Breathing Problem\", \"Fever\", \"Dry Cough\", \"Sore throat\", \"Running Nose\", \"Heart Disease\", \"Fatigue \", \"Gastrointestinal \", \"Abroad travel\", \"Contact with COVID Patient\"]],\n [{\n            'v': 11,\n            'f': \"11\",\n        },\n[0, 1, 2, 3, 4, 6, 8, 11, 12, 13, 14],\n\"[0.97759674 0.98421589 0.95621181 0.92107943 0.92511462]\",\n{\n            'v': 0.9528436980265254,\n            'f': \"0.9528436980265254\",\n        },\n[\"Breathing Problem\", \"Fever\", \"Dry Cough\", \"Sore throat\", \"Running Nose\", \"Chronic Lung Disease\", \"Heart Disease\", \"Fatigue \", \"Gastrointestinal \", \"Abroad travel\", \"Contact with COVID Patient\"]],\n [{\n            'v': 12,\n            'f': \"12\",\n        },\n[0, 1, 2, 3, 4, 6, 7, 8, 11, 12, 13, 14],\n\"[0.97810591 0.98523422 0.95875764 0.92769857 0.92511462]\",\n{\n            'v': 0.9549821908982159,\n            'f': \"0.9549821908982159\",\n        },\n[\"Breathing Problem\", \"Fever\", \"Dry Cough\", \"Sore throat\", \"Running Nose\", \"Chronic Lung Disease\", \"Headache\", \"Heart Disease\", \"Fatigue \", \"Gastrointestinal \", \"Abroad travel\", \"Contact with COVID Patient\"]],\n [{\n            'v': 13,\n            'f': \"13\",\n        },\n[0, 1, 2, 3, 4, 6, 7, 8, 11, 12, 13, 14, 16],\n\"[0.97861507 0.98676171 0.96334012 0.93584521 0.9225675 ]\",\n{\n            'v': 0.9574259233705424,\n            'f': \"0.9574259233705424\",\n        },\n[\"Breathing Problem\", \"Fever\", \"Dry Cough\", \"Sore throat\", \"Running Nose\", \"Chronic Lung Disease\", \"Headache\", \"Heart Disease\", \"Fatigue \", \"Gastrointestinal \", \"Abroad travel\", \"Contact with COVID Patient\", \"Visited Public Exposed Places\"]],\n [{\n            'v': 14,\n            'f': \"14\",\n        },\n[0, 1, 2, 3, 4, 6, 7, 8, 9, 11, 12, 13, 14, 16],\n\"[0.97861507 0.98370672 0.95875764 0.94195519 0.93632196]\",\n{\n            'v': 0.9598713158814857,\n            'f': \"0.9598713158814857\",\n        },\n[\"Breathing Problem\", \"Fever\", \"Dry Cough\", \"Sore throat\", \"Running Nose\", \"Chronic Lung Disease\", \"Headache\", \"Heart Disease\", \"Diabetes\", \"Fatigue \", \"Gastrointestinal \", \"Abroad travel\", \"Contact with COVID Patient\", \"Visited Public Exposed Places\"]],\n [{\n            'v': 15,\n            'f': \"15\",\n        },\n[0, 1, 2, 3, 4, 6, 7, 8, 9, 11, 12, 13, 14, 15, 16],\n\"[0.95875764 0.98930754 0.96334012 0.95213849 0.95007641]\",\n{\n            'v': 0.962724040367989,\n            'f': \"0.962724040367989\",\n        },\n[\"Breathing Problem\", \"Fever\", \"Dry Cough\", \"Sore throat\", \"Running Nose\", \"Chronic Lung Disease\", \"Headache\", \"Heart Disease\", \"Diabetes\", \"Fatigue \", \"Gastrointestinal \", \"Abroad travel\", \"Contact with COVID Patient\", \"Attended Large Gathering\", \"Visited Public Exposed Places\"]],\n [{\n            'v': 16,\n            'f': \"16\",\n        },\n[0, 1, 2, 3, 4, 5, 6, 7, 8, 9, 11, 12, 13, 14, 15, 16],\n\"[0.95570265 0.98014257 0.94959267 0.94195519 0.95007641]\",\n{\n            'v': 0.9554938978017976,\n            'f': \"0.9554938978017976\",\n        },\n[\"Breathing Problem\", \"Fever\", \"Dry Cough\", \"Sore throat\", \"Running Nose\", \"Asthma\", \"Chronic Lung Disease\", \"Headache\", \"Heart Disease\", \"Diabetes\", \"Fatigue \", \"Gastrointestinal \", \"Abroad travel\", \"Contact with COVID Patient\", \"Attended Large Gathering\", \"Visited Public Exposed Places\"]],\n [{\n            'v': 17,\n            'f': \"17\",\n        },\n[0, 1, 2, 3, 4, 5, 6, 7, 8, 9, 11, 12, 13, 14, 15, 16, 17],\n\"[0.95417515 0.9709776  0.96334012 0.93940937 0.95364238]\",\n{\n            'v': 0.9563089248863651,\n            'f': \"0.9563089248863651\",\n        },\n[\"Breathing Problem\", \"Fever\", \"Dry Cough\", \"Sore throat\", \"Running Nose\", \"Asthma\", \"Chronic Lung Disease\", \"Headache\", \"Heart Disease\", \"Diabetes\", \"Fatigue \", \"Gastrointestinal \", \"Abroad travel\", \"Contact with COVID Patient\", \"Attended Large Gathering\", \"Visited Public Exposed Places\", \"Family working in Public Exposed Places\"]],\n [{\n            'v': 18,\n            'f': \"18\",\n        },\n[0, 1, 2, 3, 4, 5, 6, 7, 8, 9, 10, 11, 12, 13, 14, 15, 16, 17],\n\"[0.9607943  0.97556008 0.96334012 0.94450102 0.94090678]\",\n{\n            'v': 0.9570204589384259,\n            'f': \"0.9570204589384259\",\n        },\n[\"Breathing Problem\", \"Fever\", \"Dry Cough\", \"Sore throat\", \"Running Nose\", \"Asthma\", \"Chronic Lung Disease\", \"Headache\", \"Heart Disease\", \"Diabetes\", \"Hyper Tension\", \"Fatigue \", \"Gastrointestinal \", \"Abroad travel\", \"Contact with COVID Patient\", \"Attended Large Gathering\", \"Visited Public Exposed Places\", \"Family working in Public Exposed Places\"]]],\n        columns: [[\"number\", \"index\"], [\"string\", \"feature_idx\"], [\"string\", \"cv_scores\"], [\"number\", \"avg_score\"], [\"string\", \"feature_names\"]],\n        columnOptions: [{\"width\": \"1px\", \"className\": \"index_column\"}],\n        rowsPerPage: 25,\n        helpUrl: \"https://colab.research.google.com/notebooks/data_table.ipynb\",\n        suppressOutputScrolling: true,\n        minimumWidth: undefined,\n      });\n    ",
            "text/html": [
              "\n",
              "  <div id=\"df-dc3262bf-162c-4190-a21b-dba625811760\">\n",
              "    <div class=\"colab-df-container\">\n",
              "      <div>\n",
              "<style scoped>\n",
              "    .dataframe tbody tr th:only-of-type {\n",
              "        vertical-align: middle;\n",
              "    }\n",
              "\n",
              "    .dataframe tbody tr th {\n",
              "        vertical-align: top;\n",
              "    }\n",
              "\n",
              "    .dataframe thead th {\n",
              "        text-align: right;\n",
              "    }\n",
              "</style>\n",
              "<table border=\"1\" class=\"dataframe\">\n",
              "  <thead>\n",
              "    <tr style=\"text-align: right;\">\n",
              "      <th></th>\n",
              "      <th>feature_idx</th>\n",
              "      <th>cv_scores</th>\n",
              "      <th>avg_score</th>\n",
              "      <th>feature_names</th>\n",
              "    </tr>\n",
              "  </thead>\n",
              "  <tbody>\n",
              "    <tr>\n",
              "      <th>1</th>\n",
              "      <td>(2,)</td>\n",
              "      <td>[0.8207739307535642, 0.8263747454175153, 0.833...</td>\n",
              "      <td>0.772376</td>\n",
              "      <td>(Dry Cough,)</td>\n",
              "    </tr>\n",
              "    <tr>\n",
              "      <th>2</th>\n",
              "      <td>(2, 11)</td>\n",
              "      <td>[0.8711812627291242, 0.8665987780040734, 0.872...</td>\n",
              "      <td>0.82666</td>\n",
              "      <td>(Dry Cough, Fatigue )</td>\n",
              "    </tr>\n",
              "    <tr>\n",
              "      <th>3</th>\n",
              "      <td>(2, 3, 11)</td>\n",
              "      <td>[0.9704684317718941, 0.8915478615071283, 0.886...</td>\n",
              "      <td>0.877275</td>\n",
              "      <td>(Dry Cough, Sore throat, Fatigue )</td>\n",
              "    </tr>\n",
              "    <tr>\n",
              "      <th>4</th>\n",
              "      <td>(2, 3, 11, 13)</td>\n",
              "      <td>[0.964867617107943, 0.9088594704684317, 0.9226...</td>\n",
              "      <td>0.881145</td>\n",
              "      <td>(Dry Cough, Sore throat, Fatigue , Abroad travel)</td>\n",
              "    </tr>\n",
              "    <tr>\n",
              "      <th>5</th>\n",
              "      <td>(0, 2, 3, 11, 13)</td>\n",
              "      <td>[0.9903258655804481, 0.9643584521384929, 0.865...</td>\n",
              "      <td>0.907419</td>\n",
              "      <td>(Breathing Problem, Dry Cough, Sore throat, Fa...</td>\n",
              "    </tr>\n",
              "    <tr>\n",
              "      <th>6</th>\n",
              "      <td>(0, 2, 3, 11, 13, 14)</td>\n",
              "      <td>[0.9903258655804481, 0.9663951120162932, 0.919...</td>\n",
              "      <td>0.927486</td>\n",
              "      <td>(Breathing Problem, Dry Cough, Sore throat, Fa...</td>\n",
              "    </tr>\n",
              "    <tr>\n",
              "      <th>7</th>\n",
              "      <td>(0, 1, 2, 3, 11, 13, 14)</td>\n",
              "      <td>[0.9831975560081466, 0.959775967413442, 0.9373...</td>\n",
              "      <td>0.935633</td>\n",
              "      <td>(Breathing Problem, Fever, Dry Cough, Sore thr...</td>\n",
              "    </tr>\n",
              "    <tr>\n",
              "      <th>8</th>\n",
              "      <td>(0, 1, 2, 3, 11, 12, 13, 14)</td>\n",
              "      <td>[0.9826883910386965, 0.9898167006109979, 0.960...</td>\n",
              "      <td>0.951418</td>\n",
              "      <td>(Breathing Problem, Fever, Dry Cough, Sore thr...</td>\n",
              "    </tr>\n",
              "    <tr>\n",
              "      <th>9</th>\n",
              "      <td>(0, 1, 2, 3, 8, 11, 12, 13, 14)</td>\n",
              "      <td>[0.980142566191446, 0.9867617107942973, 0.9648...</td>\n",
              "      <td>0.949686</td>\n",
              "      <td>(Breathing Problem, Fever, Dry Cough, Sore thr...</td>\n",
              "    </tr>\n",
              "    <tr>\n",
              "      <th>10</th>\n",
              "      <td>(0, 1, 2, 3, 4, 8, 11, 12, 13, 14)</td>\n",
              "      <td>[0.9755600814663951, 0.9831975560081466, 0.969...</td>\n",
              "      <td>0.953353</td>\n",
              "      <td>(Breathing Problem, Fever, Dry Cough, Sore thr...</td>\n",
              "    </tr>\n",
              "    <tr>\n",
              "      <th>11</th>\n",
              "      <td>(0, 1, 2, 3, 4, 6, 8, 11, 12, 13, 14)</td>\n",
              "      <td>[0.9775967413441955, 0.9842158859470469, 0.956...</td>\n",
              "      <td>0.952844</td>\n",
              "      <td>(Breathing Problem, Fever, Dry Cough, Sore thr...</td>\n",
              "    </tr>\n",
              "    <tr>\n",
              "      <th>12</th>\n",
              "      <td>(0, 1, 2, 3, 4, 6, 7, 8, 11, 12, 13, 14)</td>\n",
              "      <td>[0.9781059063136456, 0.9852342158859471, 0.958...</td>\n",
              "      <td>0.954982</td>\n",
              "      <td>(Breathing Problem, Fever, Dry Cough, Sore thr...</td>\n",
              "    </tr>\n",
              "    <tr>\n",
              "      <th>13</th>\n",
              "      <td>(0, 1, 2, 3, 4, 6, 7, 8, 11, 12, 13, 14, 16)</td>\n",
              "      <td>[0.9786150712830958, 0.9867617107942973, 0.963...</td>\n",
              "      <td>0.957426</td>\n",
              "      <td>(Breathing Problem, Fever, Dry Cough, Sore thr...</td>\n",
              "    </tr>\n",
              "    <tr>\n",
              "      <th>14</th>\n",
              "      <td>(0, 1, 2, 3, 4, 6, 7, 8, 9, 11, 12, 13, 14, 16)</td>\n",
              "      <td>[0.9786150712830958, 0.9837067209775967, 0.958...</td>\n",
              "      <td>0.959871</td>\n",
              "      <td>(Breathing Problem, Fever, Dry Cough, Sore thr...</td>\n",
              "    </tr>\n",
              "    <tr>\n",
              "      <th>15</th>\n",
              "      <td>(0, 1, 2, 3, 4, 6, 7, 8, 9, 11, 12, 13, 14, 15...</td>\n",
              "      <td>[0.9587576374745418, 0.9893075356415478, 0.963...</td>\n",
              "      <td>0.962724</td>\n",
              "      <td>(Breathing Problem, Fever, Dry Cough, Sore thr...</td>\n",
              "    </tr>\n",
              "    <tr>\n",
              "      <th>16</th>\n",
              "      <td>(0, 1, 2, 3, 4, 5, 6, 7, 8, 9, 11, 12, 13, 14,...</td>\n",
              "      <td>[0.9557026476578412, 0.980142566191446, 0.9495...</td>\n",
              "      <td>0.955494</td>\n",
              "      <td>(Breathing Problem, Fever, Dry Cough, Sore thr...</td>\n",
              "    </tr>\n",
              "    <tr>\n",
              "      <th>17</th>\n",
              "      <td>(0, 1, 2, 3, 4, 5, 6, 7, 8, 9, 11, 12, 13, 14,...</td>\n",
              "      <td>[0.9541751527494908, 0.9709775967413442, 0.963...</td>\n",
              "      <td>0.956309</td>\n",
              "      <td>(Breathing Problem, Fever, Dry Cough, Sore thr...</td>\n",
              "    </tr>\n",
              "    <tr>\n",
              "      <th>18</th>\n",
              "      <td>(0, 1, 2, 3, 4, 5, 6, 7, 8, 9, 10, 11, 12, 13,...</td>\n",
              "      <td>[0.9607942973523421, 0.9755600814663951, 0.963...</td>\n",
              "      <td>0.95702</td>\n",
              "      <td>(Breathing Problem, Fever, Dry Cough, Sore thr...</td>\n",
              "    </tr>\n",
              "  </tbody>\n",
              "</table>\n",
              "</div>\n",
              "      <button class=\"colab-df-convert\" onclick=\"convertToInteractive('df-dc3262bf-162c-4190-a21b-dba625811760')\"\n",
              "              title=\"Convert this dataframe to an interactive table.\"\n",
              "              style=\"display:none;\">\n",
              "        \n",
              "  <svg xmlns=\"http://www.w3.org/2000/svg\" height=\"24px\"viewBox=\"0 0 24 24\"\n",
              "       width=\"24px\">\n",
              "    <path d=\"M0 0h24v24H0V0z\" fill=\"none\"/>\n",
              "    <path d=\"M18.56 5.44l.94 2.06.94-2.06 2.06-.94-2.06-.94-.94-2.06-.94 2.06-2.06.94zm-11 1L8.5 8.5l.94-2.06 2.06-.94-2.06-.94L8.5 2.5l-.94 2.06-2.06.94zm10 10l.94 2.06.94-2.06 2.06-.94-2.06-.94-.94-2.06-.94 2.06-2.06.94z\"/><path d=\"M17.41 7.96l-1.37-1.37c-.4-.4-.92-.59-1.43-.59-.52 0-1.04.2-1.43.59L10.3 9.45l-7.72 7.72c-.78.78-.78 2.05 0 2.83L4 21.41c.39.39.9.59 1.41.59.51 0 1.02-.2 1.41-.59l7.78-7.78 2.81-2.81c.8-.78.8-2.07 0-2.86zM5.41 20L4 18.59l7.72-7.72 1.47 1.35L5.41 20z\"/>\n",
              "  </svg>\n",
              "      </button>\n",
              "      \n",
              "  <style>\n",
              "    .colab-df-container {\n",
              "      display:flex;\n",
              "      flex-wrap:wrap;\n",
              "      gap: 12px;\n",
              "    }\n",
              "\n",
              "    .colab-df-convert {\n",
              "      background-color: #E8F0FE;\n",
              "      border: none;\n",
              "      border-radius: 50%;\n",
              "      cursor: pointer;\n",
              "      display: none;\n",
              "      fill: #1967D2;\n",
              "      height: 32px;\n",
              "      padding: 0 0 0 0;\n",
              "      width: 32px;\n",
              "    }\n",
              "\n",
              "    .colab-df-convert:hover {\n",
              "      background-color: #E2EBFA;\n",
              "      box-shadow: 0px 1px 2px rgba(60, 64, 67, 0.3), 0px 1px 3px 1px rgba(60, 64, 67, 0.15);\n",
              "      fill: #174EA6;\n",
              "    }\n",
              "\n",
              "    [theme=dark] .colab-df-convert {\n",
              "      background-color: #3B4455;\n",
              "      fill: #D2E3FC;\n",
              "    }\n",
              "\n",
              "    [theme=dark] .colab-df-convert:hover {\n",
              "      background-color: #434B5C;\n",
              "      box-shadow: 0px 1px 3px 1px rgba(0, 0, 0, 0.15);\n",
              "      filter: drop-shadow(0px 1px 2px rgba(0, 0, 0, 0.3));\n",
              "      fill: #FFFFFF;\n",
              "    }\n",
              "  </style>\n",
              "\n",
              "      <script>\n",
              "        const buttonEl =\n",
              "          document.querySelector('#df-dc3262bf-162c-4190-a21b-dba625811760 button.colab-df-convert');\n",
              "        buttonEl.style.display =\n",
              "          google.colab.kernel.accessAllowed ? 'block' : 'none';\n",
              "\n",
              "        async function convertToInteractive(key) {\n",
              "          const element = document.querySelector('#df-dc3262bf-162c-4190-a21b-dba625811760');\n",
              "          const dataTable =\n",
              "            await google.colab.kernel.invokeFunction('convertToInteractive',\n",
              "                                                     [key], {});\n",
              "          if (!dataTable) return;\n",
              "\n",
              "          const docLinkHtml = 'Like what you see? Visit the ' +\n",
              "            '<a target=\"_blank\" href=https://colab.research.google.com/notebooks/data_table.ipynb>data table notebook</a>'\n",
              "            + ' to learn more about interactive tables.';\n",
              "          element.innerHTML = '';\n",
              "          dataTable['output_type'] = 'display_data';\n",
              "          await google.colab.output.renderOutput(dataTable, element);\n",
              "          const docLink = document.createElement('div');\n",
              "          docLink.innerHTML = docLinkHtml;\n",
              "          element.appendChild(docLink);\n",
              "        }\n",
              "      </script>\n",
              "    </div>\n",
              "  </div>\n",
              "  "
            ],
            "text/plain": [
              "                                          feature_idx  ...                                      feature_names\n",
              "1                                                (2,)  ...                                       (Dry Cough,)\n",
              "2                                             (2, 11)  ...                              (Dry Cough, Fatigue )\n",
              "3                                          (2, 3, 11)  ...                 (Dry Cough, Sore throat, Fatigue )\n",
              "4                                      (2, 3, 11, 13)  ...  (Dry Cough, Sore throat, Fatigue , Abroad travel)\n",
              "5                                   (0, 2, 3, 11, 13)  ...  (Breathing Problem, Dry Cough, Sore throat, Fa...\n",
              "6                               (0, 2, 3, 11, 13, 14)  ...  (Breathing Problem, Dry Cough, Sore throat, Fa...\n",
              "7                            (0, 1, 2, 3, 11, 13, 14)  ...  (Breathing Problem, Fever, Dry Cough, Sore thr...\n",
              "8                        (0, 1, 2, 3, 11, 12, 13, 14)  ...  (Breathing Problem, Fever, Dry Cough, Sore thr...\n",
              "9                     (0, 1, 2, 3, 8, 11, 12, 13, 14)  ...  (Breathing Problem, Fever, Dry Cough, Sore thr...\n",
              "10                 (0, 1, 2, 3, 4, 8, 11, 12, 13, 14)  ...  (Breathing Problem, Fever, Dry Cough, Sore thr...\n",
              "11              (0, 1, 2, 3, 4, 6, 8, 11, 12, 13, 14)  ...  (Breathing Problem, Fever, Dry Cough, Sore thr...\n",
              "12           (0, 1, 2, 3, 4, 6, 7, 8, 11, 12, 13, 14)  ...  (Breathing Problem, Fever, Dry Cough, Sore thr...\n",
              "13       (0, 1, 2, 3, 4, 6, 7, 8, 11, 12, 13, 14, 16)  ...  (Breathing Problem, Fever, Dry Cough, Sore thr...\n",
              "14    (0, 1, 2, 3, 4, 6, 7, 8, 9, 11, 12, 13, 14, 16)  ...  (Breathing Problem, Fever, Dry Cough, Sore thr...\n",
              "15  (0, 1, 2, 3, 4, 6, 7, 8, 9, 11, 12, 13, 14, 15...  ...  (Breathing Problem, Fever, Dry Cough, Sore thr...\n",
              "16  (0, 1, 2, 3, 4, 5, 6, 7, 8, 9, 11, 12, 13, 14,...  ...  (Breathing Problem, Fever, Dry Cough, Sore thr...\n",
              "17  (0, 1, 2, 3, 4, 5, 6, 7, 8, 9, 11, 12, 13, 14,...  ...  (Breathing Problem, Fever, Dry Cough, Sore thr...\n",
              "18  (0, 1, 2, 3, 4, 5, 6, 7, 8, 9, 10, 11, 12, 13,...  ...  (Breathing Problem, Fever, Dry Cough, Sore thr...\n",
              "\n",
              "[18 rows x 4 columns]"
            ]
          },
          "metadata": {},
          "execution_count": 67
        }
      ]
    },
    {
      "cell_type": "code",
      "source": [
        "import matplotlib.pyplot as plt\n",
        "plt.rcParams[\"figure.figsize\"] = (10,10)"
      ],
      "metadata": {
        "id": "BMvXd6gk2Gr8"
      },
      "execution_count": null,
      "outputs": []
    },
    {
      "cell_type": "code",
      "source": [
        "fig = plot_sfs(sfs.get_metric_dict(), kind='std_err')\n",
        "\n",
        "plt.title('Sequential Forward feature Selection')\n",
        "plt.grid()\n",
        "plt.show()"
      ],
      "metadata": {
        "colab": {
          "base_uri": "https://localhost:8080/",
          "height": 666
        },
        "id": "NL4JnEOz_y3A",
        "outputId": "57364ab5-fc05-4d86-c8b8-0dd76de7bef4"
      },
      "execution_count": null,
      "outputs": [
        {
          "output_type": "stream",
          "name": "stderr",
          "text": [
            "findfont: Font family ['normal'] not found. Falling back to DejaVu Sans.\n",
            "findfont: Font family ['normal'] not found. Falling back to DejaVu Sans.\n"
          ]
        },
        {
          "output_type": "display_data",
          "data": {
            "image/png": "[encoded data removed]",
            "text/plain": [
              "<Figure size 720x720 with 1 Axes>"
            ]
          },
          "metadata": {
            "needs_background": "light"
          }
        }
      ]
    },
    {
      "cell_type": "code",
      "source": [
        "from mlxtend.feature_selection import SequentialFeatureSelector as sfs\n",
        "from sklearn.ensemble import RandomForestRegressor"
      ],
      "metadata": {
        "id": "Drl2TQs16cuZ"
      },
      "execution_count": null,
      "outputs": []
    },
    {
      "cell_type": "code",
      "source": [
        "sfs = SFS(RandomForestClassifier(),\n",
        "           k_features=1,\n",
        "          forward=False,\n",
        "          floating=False,\n",
        "          verbose=2,\n",
        "          n_jobs=-1,\n",
        "           scoring = 'accuracy',\n",
        "           cv = 5)\n",
        "#Use SFS to select the top 18 features \n",
        "data_table.enable_dataframe_formatter()\n",
        "sfs.fit(X_sm, y_sm)\n",
        "\n",
        "#Create a dataframe for the SFS results \n",
        "df_SFS_results = pd.DataFrame(sfs.subsets_).transpose()\n",
        "df_SFS_results"
      ],
      "metadata": {
        "colab": {
          "base_uri": "https://localhost:8080/",
          "height": 2057
        },
        "id": "OJL8YmQW5QYI",
        "outputId": "0b0bb018-b464-4c4f-8a30-19a8b2d728ca"
      },
      "execution_count": null,
      "outputs": [
        {
          "output_type": "stream",
          "name": "stderr",
          "text": [
            "[Parallel(n_jobs=-1)]: Using backend LokyBackend with 2 concurrent workers.\n",
            "[Parallel(n_jobs=-1)]: Done  18 out of  18 | elapsed:   32.1s finished\n",
            "\n",
            "[2022-01-31 20:01:57] Features: 17/1 -- score: 0.9591597818294246[Parallel(n_jobs=-1)]: Using backend LokyBackend with 2 concurrent workers.\n",
            "[Parallel(n_jobs=-1)]: Done  17 out of  17 | elapsed:   26.3s finished\n",
            "\n",
            "[2022-01-31 20:02:24] Features: 16/1 -- score: 0.960787812826496[Parallel(n_jobs=-1)]: Using backend LokyBackend with 2 concurrent workers.\n",
            "[Parallel(n_jobs=-1)]: Done  16 out of  16 | elapsed:   23.7s finished\n",
            "\n",
            "[2022-01-31 20:02:48] Features: 15/1 -- score: 0.9615001250216583[Parallel(n_jobs=-1)]: Using backend LokyBackend with 2 concurrent workers.\n",
            "[Parallel(n_jobs=-1)]: Done  15 out of  15 | elapsed:   22.4s finished\n",
            "\n",
            "[2022-01-31 20:03:10] Features: 14/1 -- score: 0.9619088576548013[Parallel(n_jobs=-1)]: Using backend LokyBackend with 2 concurrent workers.\n",
            "[Parallel(n_jobs=-1)]: Done  14 out of  14 | elapsed:   20.6s finished\n",
            "\n",
            "[2022-01-31 20:03:31] Features: 13/1 -- score: 0.9609921532049638[Parallel(n_jobs=-1)]: Using backend LokyBackend with 2 concurrent workers.\n",
            "[Parallel(n_jobs=-1)]: Done  13 out of  13 | elapsed:   20.0s finished\n",
            "\n",
            "[2022-01-31 20:03:51] Features: 12/1 -- score: 0.9631311129625153[Parallel(n_jobs=-1)]: Using backend LokyBackend with 2 concurrent workers.\n",
            "[Parallel(n_jobs=-1)]: Done  12 out of  12 | elapsed:   17.9s finished\n",
            "\n",
            "[2022-01-31 20:04:09] Features: 11/1 -- score: 0.9586493199548055[Parallel(n_jobs=-1)]: Using backend LokyBackend with 2 concurrent workers.\n",
            "[Parallel(n_jobs=-1)]: Done  11 out of  11 | elapsed:   16.7s finished\n",
            "\n",
            "[2022-01-31 20:04:25] Features: 10/1 -- score: 0.9580378032293977[Parallel(n_jobs=-1)]: Using backend LokyBackend with 2 concurrent workers.\n",
            "[Parallel(n_jobs=-1)]: Done  10 out of  10 | elapsed:   14.8s finished\n",
            "\n",
            "[2022-01-31 20:04:40] Features: 9/1 -- score: 0.95447359656704[Parallel(n_jobs=-1)]: Using backend LokyBackend with 2 concurrent workers.\n",
            "[Parallel(n_jobs=-1)]: Done   9 out of   9 | elapsed:   12.7s finished\n",
            "\n",
            "[2022-01-31 20:04:53] Features: 8/1 -- score: 0.9436780541857356[Parallel(n_jobs=-1)]: Using backend LokyBackend with 2 concurrent workers.\n",
            "[Parallel(n_jobs=-1)]: Done   8 out of   8 | elapsed:   10.9s finished\n",
            "\n",
            "[2022-01-31 20:05:04] Features: 7/1 -- score: 0.9320652540429721[Parallel(n_jobs=-1)]: Using backend LokyBackend with 2 concurrent workers.\n",
            "[Parallel(n_jobs=-1)]: Done   7 out of   7 | elapsed:    9.3s finished\n",
            "\n",
            "[2022-01-31 20:05:13] Features: 6/1 -- score: 0.925140817963278[Parallel(n_jobs=-1)]: Using backend LokyBackend with 2 concurrent workers.\n",
            "[Parallel(n_jobs=-1)]: Done   6 out of   6 | elapsed:    7.4s finished\n",
            "\n",
            "[2022-01-31 20:05:21] Features: 5/1 -- score: 0.9032470874103709[Parallel(n_jobs=-1)]: Using backend LokyBackend with 2 concurrent workers.\n",
            "[Parallel(n_jobs=-1)]: Done   5 out of   5 | elapsed:    6.2s remaining:    0.0s\n",
            "[Parallel(n_jobs=-1)]: Done   5 out of   5 | elapsed:    6.2s finished\n",
            "\n",
            "[2022-01-31 20:05:27] Features: 4/1 -- score: 0.8839950489348258[Parallel(n_jobs=-1)]: Using backend LokyBackend with 2 concurrent workers.\n",
            "[Parallel(n_jobs=-1)]: Done   4 out of   4 | elapsed:    4.4s remaining:    0.0s\n",
            "[Parallel(n_jobs=-1)]: Done   4 out of   4 | elapsed:    4.4s finished\n",
            "\n",
            "[2022-01-31 20:05:31] Features: 3/1 -- score: 0.8352108197166936[Parallel(n_jobs=-1)]: Using backend LokyBackend with 2 concurrent workers.\n",
            "[Parallel(n_jobs=-1)]: Done   3 out of   3 | elapsed:    3.3s finished\n",
            "\n",
            "[2022-01-31 20:05:34] Features: 2/1 -- score: 0.7810340588047929[Parallel(n_jobs=-1)]: Using backend LokyBackend with 2 concurrent workers.\n",
            "[Parallel(n_jobs=-1)]: Done   2 out of   2 | elapsed:    2.0s finished\n",
            "\n",
            "[2022-01-31 20:05:36] Features: 1/1 -- score: 0.772376283028284"
          ]
        },
        {
          "output_type": "execute_result",
          "data": {
            "application/vnd.google.colaboratory.module+javascript": "\n      import \"https://ssl.gstatic.com/colaboratory/data_table/81f25a011006ed3d/data_table.js\";\n\n      window.createDataTable({\n        data: [[{\n            'v': 18,\n            'f': \"18\",\n        },\n[0, 1, 2, 3, 4, 5, 6, 7, 8, 9, 10, 11, 12, 13, 14, 15, 16, 17],\n\"[0.95570265 0.9709776  0.94959267 0.93940937 0.92817117]\",\n{\n            'v': 0.9487706895281651,\n            'f': \"0.9487706895281651\",\n        },\n[\"Breathing Problem\", \"Fever\", \"Dry Cough\", \"Sore throat\", \"Running Nose\", \"Asthma\", \"Chronic Lung Disease\", \"Headache\", \"Heart Disease\", \"Diabetes\", \"Hyper Tension\", \"Fatigue \", \"Gastrointestinal \", \"Abroad travel\", \"Contact with COVID Patient\", \"Attended Large Gathering\", \"Visited Public Exposed Places\", \"Family working in Public Exposed Places\"]],\n [{\n            'v': 17,\n            'f': \"17\",\n        },\n[0, 1, 2, 3, 4, 5, 6, 7, 8, 9, 10, 11, 12, 13, 14, 16, 17],\n\"[0.98065173 0.9709776  0.96334012 0.93177189 0.94905756]\",\n{\n            'v': 0.9591597818294246,\n            'f': \"0.9591597818294246\",\n        },\n[\"Breathing Problem\", \"Fever\", \"Dry Cough\", \"Sore throat\", \"Running Nose\", \"Asthma\", \"Chronic Lung Disease\", \"Headache\", \"Heart Disease\", \"Diabetes\", \"Hyper Tension\", \"Fatigue \", \"Gastrointestinal \", \"Abroad travel\", \"Contact with COVID Patient\", \"Visited Public Exposed Places\", \"Family working in Public Exposed Places\"]],\n [{\n            'v': 16,\n            'f': \"16\",\n        },\n[0, 1, 2, 3, 4, 5, 6, 7, 8, 9, 10, 11, 12, 13, 16, 17],\n\"[0.98319756 0.97046843 0.96334012 0.950611   0.93632196]\",\n{\n            'v': 0.960787812826496,\n            'f': \"0.960787812826496\",\n        },\n[\"Breathing Problem\", \"Fever\", \"Dry Cough\", \"Sore throat\", \"Running Nose\", \"Asthma\", \"Chronic Lung Disease\", \"Headache\", \"Heart Disease\", \"Diabetes\", \"Hyper Tension\", \"Fatigue \", \"Gastrointestinal \", \"Abroad travel\", \"Visited Public Exposed Places\", \"Family working in Public Exposed Places\"]],\n [{\n            'v': 15,\n            'f': \"15\",\n        },\n[0, 1, 2, 3, 4, 5, 6, 7, 8, 9, 10, 11, 13, 16, 17],\n\"[0.98472505 0.97352342 0.96792261 0.95010183 0.93122771]\",\n{\n            'v': 0.9615001250216583,\n            'f': \"0.9615001250216583\",\n        },\n[\"Breathing Problem\", \"Fever\", \"Dry Cough\", \"Sore throat\", \"Running Nose\", \"Asthma\", \"Chronic Lung Disease\", \"Headache\", \"Heart Disease\", \"Diabetes\", \"Hyper Tension\", \"Fatigue \", \"Abroad travel\", \"Visited Public Exposed Places\", \"Family working in Public Exposed Places\"]],\n [{\n            'v': 14,\n            'f': \"14\",\n        },\n[0, 1, 2, 4, 5, 6, 7, 8, 9, 10, 11, 13, 16, 17],\n\"[0.98625255 0.99032587 0.94501018 0.94297352 0.94498217]\",\n{\n            'v': 0.9619088576548013,\n            'f': \"0.9619088576548013\",\n        },\n[\"Breathing Problem\", \"Fever\", \"Dry Cough\", \"Running Nose\", \"Asthma\", \"Chronic Lung Disease\", \"Headache\", \"Heart Disease\", \"Diabetes\", \"Hyper Tension\", \"Fatigue \", \"Abroad travel\", \"Visited Public Exposed Places\", \"Family working in Public Exposed Places\"]],\n [{\n            'v': 13,\n            'f': \"13\",\n        },\n[0, 1, 2, 4, 5, 6, 7, 8, 9, 10, 11, 16, 17],\n\"[0.98167006 0.97657841 0.96639511 0.93737271 0.94294447]\",\n{\n            'v': 0.9609921532049638,\n            'f': \"0.9609921532049638\",\n        },\n[\"Breathing Problem\", \"Fever\", \"Dry Cough\", \"Running Nose\", \"Asthma\", \"Chronic Lung Disease\", \"Headache\", \"Heart Disease\", \"Diabetes\", \"Hyper Tension\", \"Fatigue \", \"Visited Public Exposed Places\", \"Family working in Public Exposed Places\"]],\n [{\n            'v': 12,\n            'f': \"12\",\n        },\n[0, 1, 2, 5, 6, 7, 8, 9, 10, 11, 16, 17],\n\"[0.98065173 0.9811609  0.96639511 0.93991853 0.94752929]\",\n{\n            'v': 0.9631311129625153,\n            'f': \"0.9631311129625153\",\n        },\n[\"Breathing Problem\", \"Fever\", \"Dry Cough\", \"Asthma\", \"Chronic Lung Disease\", \"Headache\", \"Heart Disease\", \"Diabetes\", \"Hyper Tension\", \"Fatigue \", \"Visited Public Exposed Places\", \"Family working in Public Exposed Places\"]],\n [{\n            'v': 11,\n            'f': \"11\",\n        },\n[0, 1, 2, 5, 6, 7, 8, 9, 10, 11, 16],\n\"[0.98217923 0.99694501 0.96384929 0.91395112 0.93632196]\",\n{\n            'v': 0.9586493199548055,\n            'f': \"0.9586493199548055\",\n        },\n[\"Breathing Problem\", \"Fever\", \"Dry Cough\", \"Asthma\", \"Chronic Lung Disease\", \"Headache\", \"Heart Disease\", \"Diabetes\", \"Hyper Tension\", \"Fatigue \", \"Visited Public Exposed Places\"]],\n [{\n            'v': 10,\n            'f': \"10\",\n        },\n[0, 1, 2, 5, 6, 7, 9, 10, 11, 16],\n\"[0.99185336 0.99694501 0.94501018 0.92515275 0.93122771]\",\n{\n            'v': 0.9580378032293977,\n            'f': \"0.9580378032293977\",\n        },\n[\"Breathing Problem\", \"Fever\", \"Dry Cough\", \"Asthma\", \"Chronic Lung Disease\", \"Headache\", \"Diabetes\", \"Hyper Tension\", \"Fatigue \", \"Visited Public Exposed Places\"]],\n [{\n            'v': 9,\n            'f': \"9\",\n        },\n[0, 1, 2, 5, 6, 7, 9, 11, 16],\n\"[0.99439919 0.99745418 0.93991853 0.9098778  0.93071829]\",\n{\n            'v': 0.95447359656704,\n            'f': \"0.95447359656704\",\n        },\n[\"Breathing Problem\", \"Fever\", \"Dry Cough\", \"Asthma\", \"Chronic Lung Disease\", \"Headache\", \"Diabetes\", \"Fatigue \", \"Visited Public Exposed Places\"]],\n [{\n            'v': 8,\n            'f': \"8\",\n        },\n[0, 1, 2, 5, 6, 7, 9, 16],\n\"[0.99490835 0.98930754 0.92566191 0.89002037 0.9184921 ]\",\n{\n            'v': 0.9436780541857356,\n            'f': \"0.9436780541857356\",\n        },\n[\"Breathing Problem\", \"Fever\", \"Dry Cough\", \"Asthma\", \"Chronic Lung Disease\", \"Headache\", \"Diabetes\", \"Visited Public Exposed Places\"]],\n [{\n            'v': 7,\n            'f': \"7\",\n        },\n[0, 1, 2, 6, 7, 9, 16],\n\"[0.98828921 0.99389002 0.91089613 0.88645621 0.8807947 ]\",\n{\n            'v': 0.9320652540429721,\n            'f': \"0.9320652540429721\",\n        },\n[\"Breathing Problem\", \"Fever\", \"Dry Cough\", \"Chronic Lung Disease\", \"Headache\", \"Diabetes\", \"Visited Public Exposed Places\"]],\n [{\n            'v': 6,\n            'f': \"6\",\n        },\n[0, 1, 2, 6, 9, 16],\n\"[0.98472505 0.98828921 0.88900204 0.8808554  0.8828324 ]\",\n{\n            'v': 0.925140817963278,\n            'f': \"0.925140817963278\",\n        },\n[\"Breathing Problem\", \"Fever\", \"Dry Cough\", \"Chronic Lung Disease\", \"Diabetes\", \"Visited Public Exposed Places\"]],\n [{\n            'v': 5,\n            'f': \"5\",\n        },\n[0, 2, 6, 9, 16],\n\"[0.99490835 0.95519348 0.79989817 0.87983707 0.88639837]\",\n{\n            'v': 0.9032470874103709,\n            'f': \"0.9032470874103709\",\n        },\n[\"Breathing Problem\", \"Dry Cough\", \"Chronic Lung Disease\", \"Diabetes\", \"Visited Public Exposed Places\"]],\n [{\n            'v': 4,\n            'f': \"4\",\n        },\n[0, 2, 6, 9],\n\"[0.96792261 0.95977597 0.82179226 0.83910387 0.83138054]\",\n{\n            'v': 0.8839950489348258,\n            'f': \"0.8839950489348258\",\n        },\n[\"Breathing Problem\", \"Dry Cough\", \"Chronic Lung Disease\", \"Diabetes\"]],\n [{\n            'v': 3,\n            'f': \"3\",\n        },\n[0, 2, 6],\n\"[0.93482688 0.89918534 0.75050916 0.8212831  0.77024962]\",\n{\n            'v': 0.8352108197166936,\n            'f': \"0.8352108197166936\",\n        },\n[\"Breathing Problem\", \"Dry Cough\", \"Chronic Lung Disease\"]],\n [{\n            'v': 2,\n            'f': \"2\",\n        },\n[2, 6],\n\"[0.82077393 0.82637475 0.83350305 0.6700611  0.75445746]\",\n{\n            'v': 0.7810340588047929,\n            'f': \"0.7810340588047929\",\n        },\n[\"Dry Cough\", \"Chronic Lung Disease\"]],\n [{\n            'v': 1,\n            'f': \"1\",\n        },\n[2],\n\"[0.82077393 0.82637475 0.83350305 0.64613035 0.73509934]\",\n{\n            'v': 0.772376283028284,\n            'f': \"0.772376283028284\",\n        },\n[\"Dry Cough\"]]],\n        columns: [[\"number\", \"index\"], [\"string\", \"feature_idx\"], [\"string\", \"cv_scores\"], [\"number\", \"avg_score\"], [\"string\", \"feature_names\"]],\n        columnOptions: [{\"width\": \"1px\", \"className\": \"index_column\"}],\n        rowsPerPage: 25,\n        helpUrl: \"https://colab.research.google.com/notebooks/data_table.ipynb\",\n        suppressOutputScrolling: true,\n        minimumWidth: undefined,\n      });\n    ",
            "text/html": [
              "\n",
              "  <div id=\"df-7d7a5c8f-4fb0-4f3b-b4fd-12a143933011\">\n",
              "    <div class=\"colab-df-container\">\n",
              "      <div>\n",
              "<style scoped>\n",
              "    .dataframe tbody tr th:only-of-type {\n",
              "        vertical-align: middle;\n",
              "    }\n",
              "\n",
              "    .dataframe tbody tr th {\n",
              "        vertical-align: top;\n",
              "    }\n",
              "\n",
              "    .dataframe thead th {\n",
              "        text-align: right;\n",
              "    }\n",
              "</style>\n",
              "<table border=\"1\" class=\"dataframe\">\n",
              "  <thead>\n",
              "    <tr style=\"text-align: right;\">\n",
              "      <th></th>\n",
              "      <th>feature_idx</th>\n",
              "      <th>cv_scores</th>\n",
              "      <th>avg_score</th>\n",
              "      <th>feature_names</th>\n",
              "    </tr>\n",
              "  </thead>\n",
              "  <tbody>\n",
              "    <tr>\n",
              "      <th>18</th>\n",
              "      <td>(0, 1, 2, 3, 4, 5, 6, 7, 8, 9, 10, 11, 12, 13,...</td>\n",
              "      <td>[0.9557026476578412, 0.9709775967413442, 0.949...</td>\n",
              "      <td>0.948771</td>\n",
              "      <td>(Breathing Problem, Fever, Dry Cough, Sore thr...</td>\n",
              "    </tr>\n",
              "    <tr>\n",
              "      <th>17</th>\n",
              "      <td>(0, 1, 2, 3, 4, 5, 6, 7, 8, 9, 10, 11, 12, 13,...</td>\n",
              "      <td>[0.9806517311608961, 0.9709775967413442, 0.963...</td>\n",
              "      <td>0.95916</td>\n",
              "      <td>(Breathing Problem, Fever, Dry Cough, Sore thr...</td>\n",
              "    </tr>\n",
              "    <tr>\n",
              "      <th>16</th>\n",
              "      <td>(0, 1, 2, 3, 4, 5, 6, 7, 8, 9, 10, 11, 12, 13,...</td>\n",
              "      <td>[0.9831975560081466, 0.9704684317718941, 0.963...</td>\n",
              "      <td>0.960788</td>\n",
              "      <td>(Breathing Problem, Fever, Dry Cough, Sore thr...</td>\n",
              "    </tr>\n",
              "    <tr>\n",
              "      <th>15</th>\n",
              "      <td>(0, 1, 2, 3, 4, 5, 6, 7, 8, 9, 10, 11, 13, 16,...</td>\n",
              "      <td>[0.984725050916497, 0.9735234215885947, 0.9679...</td>\n",
              "      <td>0.9615</td>\n",
              "      <td>(Breathing Problem, Fever, Dry Cough, Sore thr...</td>\n",
              "    </tr>\n",
              "    <tr>\n",
              "      <th>14</th>\n",
              "      <td>(0, 1, 2, 4, 5, 6, 7, 8, 9, 10, 11, 13, 16, 17)</td>\n",
              "      <td>[0.9862525458248472, 0.9903258655804481, 0.945...</td>\n",
              "      <td>0.961909</td>\n",
              "      <td>(Breathing Problem, Fever, Dry Cough, Running ...</td>\n",
              "    </tr>\n",
              "    <tr>\n",
              "      <th>13</th>\n",
              "      <td>(0, 1, 2, 4, 5, 6, 7, 8, 9, 10, 11, 16, 17)</td>\n",
              "      <td>[0.9816700610997964, 0.9765784114052953, 0.966...</td>\n",
              "      <td>0.960992</td>\n",
              "      <td>(Breathing Problem, Fever, Dry Cough, Running ...</td>\n",
              "    </tr>\n",
              "    <tr>\n",
              "      <th>12</th>\n",
              "      <td>(0, 1, 2, 5, 6, 7, 8, 9, 10, 11, 16, 17)</td>\n",
              "      <td>[0.9806517311608961, 0.9811608961303462, 0.966...</td>\n",
              "      <td>0.963131</td>\n",
              "      <td>(Breathing Problem, Fever, Dry Cough, Asthma, ...</td>\n",
              "    </tr>\n",
              "    <tr>\n",
              "      <th>11</th>\n",
              "      <td>(0, 1, 2, 5, 6, 7, 8, 9, 10, 11, 16)</td>\n",
              "      <td>[0.9821792260692465, 0.9969450101832994, 0.963...</td>\n",
              "      <td>0.958649</td>\n",
              "      <td>(Breathing Problem, Fever, Dry Cough, Asthma, ...</td>\n",
              "    </tr>\n",
              "    <tr>\n",
              "      <th>10</th>\n",
              "      <td>(0, 1, 2, 5, 6, 7, 9, 10, 11, 16)</td>\n",
              "      <td>[0.9918533604887984, 0.9969450101832994, 0.945...</td>\n",
              "      <td>0.958038</td>\n",
              "      <td>(Breathing Problem, Fever, Dry Cough, Asthma, ...</td>\n",
              "    </tr>\n",
              "    <tr>\n",
              "      <th>9</th>\n",
              "      <td>(0, 1, 2, 5, 6, 7, 9, 11, 16)</td>\n",
              "      <td>[0.9943991853360489, 0.9974541751527495, 0.939...</td>\n",
              "      <td>0.954474</td>\n",
              "      <td>(Breathing Problem, Fever, Dry Cough, Asthma, ...</td>\n",
              "    </tr>\n",
              "    <tr>\n",
              "      <th>8</th>\n",
              "      <td>(0, 1, 2, 5, 6, 7, 9, 16)</td>\n",
              "      <td>[0.994908350305499, 0.9893075356415478, 0.9256...</td>\n",
              "      <td>0.943678</td>\n",
              "      <td>(Breathing Problem, Fever, Dry Cough, Asthma, ...</td>\n",
              "    </tr>\n",
              "    <tr>\n",
              "      <th>7</th>\n",
              "      <td>(0, 1, 2, 6, 7, 9, 16)</td>\n",
              "      <td>[0.9882892057026477, 0.9938900203665988, 0.910...</td>\n",
              "      <td>0.932065</td>\n",
              "      <td>(Breathing Problem, Fever, Dry Cough, Chronic ...</td>\n",
              "    </tr>\n",
              "    <tr>\n",
              "      <th>6</th>\n",
              "      <td>(0, 1, 2, 6, 9, 16)</td>\n",
              "      <td>[0.984725050916497, 0.9882892057026477, 0.8890...</td>\n",
              "      <td>0.925141</td>\n",
              "      <td>(Breathing Problem, Fever, Dry Cough, Chronic ...</td>\n",
              "    </tr>\n",
              "    <tr>\n",
              "      <th>5</th>\n",
              "      <td>(0, 2, 6, 9, 16)</td>\n",
              "      <td>[0.994908350305499, 0.955193482688391, 0.79989...</td>\n",
              "      <td>0.903247</td>\n",
              "      <td>(Breathing Problem, Dry Cough, Chronic Lung Di...</td>\n",
              "    </tr>\n",
              "    <tr>\n",
              "      <th>4</th>\n",
              "      <td>(0, 2, 6, 9)</td>\n",
              "      <td>[0.9679226069246436, 0.959775967413442, 0.8217...</td>\n",
              "      <td>0.883995</td>\n",
              "      <td>(Breathing Problem, Dry Cough, Chronic Lung Di...</td>\n",
              "    </tr>\n",
              "    <tr>\n",
              "      <th>3</th>\n",
              "      <td>(0, 2, 6)</td>\n",
              "      <td>[0.9348268839103869, 0.8991853360488798, 0.750...</td>\n",
              "      <td>0.835211</td>\n",
              "      <td>(Breathing Problem, Dry Cough, Chronic Lung Di...</td>\n",
              "    </tr>\n",
              "    <tr>\n",
              "      <th>2</th>\n",
              "      <td>(2, 6)</td>\n",
              "      <td>[0.8207739307535642, 0.8263747454175153, 0.833...</td>\n",
              "      <td>0.781034</td>\n",
              "      <td>(Dry Cough, Chronic Lung Disease)</td>\n",
              "    </tr>\n",
              "    <tr>\n",
              "      <th>1</th>\n",
              "      <td>(2,)</td>\n",
              "      <td>[0.8207739307535642, 0.8263747454175153, 0.833...</td>\n",
              "      <td>0.772376</td>\n",
              "      <td>(Dry Cough,)</td>\n",
              "    </tr>\n",
              "  </tbody>\n",
              "</table>\n",
              "</div>\n",
              "      <button class=\"colab-df-convert\" onclick=\"convertToInteractive('df-7d7a5c8f-4fb0-4f3b-b4fd-12a143933011')\"\n",
              "              title=\"Convert this dataframe to an interactive table.\"\n",
              "              style=\"display:none;\">\n",
              "        \n",
              "  <svg xmlns=\"http://www.w3.org/2000/svg\" height=\"24px\"viewBox=\"0 0 24 24\"\n",
              "       width=\"24px\">\n",
              "    <path d=\"M0 0h24v24H0V0z\" fill=\"none\"/>\n",
              "    <path d=\"M18.56 5.44l.94 2.06.94-2.06 2.06-.94-2.06-.94-.94-2.06-.94 2.06-2.06.94zm-11 1L8.5 8.5l.94-2.06 2.06-.94-2.06-.94L8.5 2.5l-.94 2.06-2.06.94zm10 10l.94 2.06.94-2.06 2.06-.94-2.06-.94-.94-2.06-.94 2.06-2.06.94z\"/><path d=\"M17.41 7.96l-1.37-1.37c-.4-.4-.92-.59-1.43-.59-.52 0-1.04.2-1.43.59L10.3 9.45l-7.72 7.72c-.78.78-.78 2.05 0 2.83L4 21.41c.39.39.9.59 1.41.59.51 0 1.02-.2 1.41-.59l7.78-7.78 2.81-2.81c.8-.78.8-2.07 0-2.86zM5.41 20L4 18.59l7.72-7.72 1.47 1.35L5.41 20z\"/>\n",
              "  </svg>\n",
              "      </button>\n",
              "      \n",
              "  <style>\n",
              "    .colab-df-container {\n",
              "      display:flex;\n",
              "      flex-wrap:wrap;\n",
              "      gap: 12px;\n",
              "    }\n",
              "\n",
              "    .colab-df-convert {\n",
              "      background-color: #E8F0FE;\n",
              "      border: none;\n",
              "      border-radius: 50%;\n",
              "      cursor: pointer;\n",
              "      display: none;\n",
              "      fill: #1967D2;\n",
              "      height: 32px;\n",
              "      padding: 0 0 0 0;\n",
              "      width: 32px;\n",
              "    }\n",
              "\n",
              "    .colab-df-convert:hover {\n",
              "      background-color: #E2EBFA;\n",
              "      box-shadow: 0px 1px 2px rgba(60, 64, 67, 0.3), 0px 1px 3px 1px rgba(60, 64, 67, 0.15);\n",
              "      fill: #174EA6;\n",
              "    }\n",
              "\n",
              "    [theme=dark] .colab-df-convert {\n",
              "      background-color: #3B4455;\n",
              "      fill: #D2E3FC;\n",
              "    }\n",
              "\n",
              "    [theme=dark] .colab-df-convert:hover {\n",
              "      background-color: #434B5C;\n",
              "      box-shadow: 0px 1px 3px 1px rgba(0, 0, 0, 0.15);\n",
              "      filter: drop-shadow(0px 1px 2px rgba(0, 0, 0, 0.3));\n",
              "      fill: #FFFFFF;\n",
              "    }\n",
              "  </style>\n",
              "\n",
              "      <script>\n",
              "        const buttonEl =\n",
              "          document.querySelector('#df-7d7a5c8f-4fb0-4f3b-b4fd-12a143933011 button.colab-df-convert');\n",
              "        buttonEl.style.display =\n",
              "          google.colab.kernel.accessAllowed ? 'block' : 'none';\n",
              "\n",
              "        async function convertToInteractive(key) {\n",
              "          const element = document.querySelector('#df-7d7a5c8f-4fb0-4f3b-b4fd-12a143933011');\n",
              "          const dataTable =\n",
              "            await google.colab.kernel.invokeFunction('convertToInteractive',\n",
              "                                                     [key], {});\n",
              "          if (!dataTable) return;\n",
              "\n",
              "          const docLinkHtml = 'Like what you see? Visit the ' +\n",
              "            '<a target=\"_blank\" href=https://colab.research.google.com/notebooks/data_table.ipynb>data table notebook</a>'\n",
              "            + ' to learn more about interactive tables.';\n",
              "          element.innerHTML = '';\n",
              "          dataTable['output_type'] = 'display_data';\n",
              "          await google.colab.output.renderOutput(dataTable, element);\n",
              "          const docLink = document.createElement('div');\n",
              "          docLink.innerHTML = docLinkHtml;\n",
              "          element.appendChild(docLink);\n",
              "        }\n",
              "      </script>\n",
              "    </div>\n",
              "  </div>\n",
              "  "
            ],
            "text/plain": [
              "                                          feature_idx  ...                                      feature_names\n",
              "18  (0, 1, 2, 3, 4, 5, 6, 7, 8, 9, 10, 11, 12, 13,...  ...  (Breathing Problem, Fever, Dry Cough, Sore thr...\n",
              "17  (0, 1, 2, 3, 4, 5, 6, 7, 8, 9, 10, 11, 12, 13,...  ...  (Breathing Problem, Fever, Dry Cough, Sore thr...\n",
              "16  (0, 1, 2, 3, 4, 5, 6, 7, 8, 9, 10, 11, 12, 13,...  ...  (Breathing Problem, Fever, Dry Cough, Sore thr...\n",
              "15  (0, 1, 2, 3, 4, 5, 6, 7, 8, 9, 10, 11, 13, 16,...  ...  (Breathing Problem, Fever, Dry Cough, Sore thr...\n",
              "14    (0, 1, 2, 4, 5, 6, 7, 8, 9, 10, 11, 13, 16, 17)  ...  (Breathing Problem, Fever, Dry Cough, Running ...\n",
              "13        (0, 1, 2, 4, 5, 6, 7, 8, 9, 10, 11, 16, 17)  ...  (Breathing Problem, Fever, Dry Cough, Running ...\n",
              "12           (0, 1, 2, 5, 6, 7, 8, 9, 10, 11, 16, 17)  ...  (Breathing Problem, Fever, Dry Cough, Asthma, ...\n",
              "11               (0, 1, 2, 5, 6, 7, 8, 9, 10, 11, 16)  ...  (Breathing Problem, Fever, Dry Cough, Asthma, ...\n",
              "10                  (0, 1, 2, 5, 6, 7, 9, 10, 11, 16)  ...  (Breathing Problem, Fever, Dry Cough, Asthma, ...\n",
              "9                       (0, 1, 2, 5, 6, 7, 9, 11, 16)  ...  (Breathing Problem, Fever, Dry Cough, Asthma, ...\n",
              "8                           (0, 1, 2, 5, 6, 7, 9, 16)  ...  (Breathing Problem, Fever, Dry Cough, Asthma, ...\n",
              "7                              (0, 1, 2, 6, 7, 9, 16)  ...  (Breathing Problem, Fever, Dry Cough, Chronic ...\n",
              "6                                 (0, 1, 2, 6, 9, 16)  ...  (Breathing Problem, Fever, Dry Cough, Chronic ...\n",
              "5                                    (0, 2, 6, 9, 16)  ...  (Breathing Problem, Dry Cough, Chronic Lung Di...\n",
              "4                                        (0, 2, 6, 9)  ...  (Breathing Problem, Dry Cough, Chronic Lung Di...\n",
              "3                                           (0, 2, 6)  ...  (Breathing Problem, Dry Cough, Chronic Lung Di...\n",
              "2                                              (2, 6)  ...                  (Dry Cough, Chronic Lung Disease)\n",
              "1                                                (2,)  ...                                       (Dry Cough,)\n",
              "\n",
              "[18 rows x 4 columns]"
            ]
          },
          "metadata": {},
          "execution_count": 72
        }
      ]
    },
    {
      "cell_type": "code",
      "source": [
        "fig = plot_sfs(sfs.get_metric_dict(), kind='std_err')\n",
        "\n",
        "plt.title('Sequential bakcward feature Selection')\n",
        "plt.grid()\n",
        "plt.show()"
      ],
      "metadata": {
        "colab": {
          "base_uri": "https://localhost:8080/",
          "height": 630
        },
        "id": "fMpsFYq1-0Dw",
        "outputId": "1db5b2f1-8bc8-4d0a-bb36-1ef764aa1b87"
      },
      "execution_count": null,
      "outputs": [
        {
          "output_type": "display_data",
          "data": {
            "image/png": "[encoded data removed]",
            "text/plain": [
              "<Figure size 720x720 with 1 Axes>"
            ]
          },
          "metadata": {
            "needs_background": "light"
          }
        }
      ]
    }
  ]
}